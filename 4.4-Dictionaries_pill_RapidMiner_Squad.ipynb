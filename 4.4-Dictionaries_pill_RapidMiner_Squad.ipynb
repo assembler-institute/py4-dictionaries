{
 "cells": [
  {
   "cell_type": "markdown",
   "id": "413f4c2a",
   "metadata": {},
   "source": [
    "# Dictionaries pill"
   ]
  },
  {
   "cell_type": "markdown",
   "id": "7e3c45f4",
   "metadata": {},
   "source": [
    "<img width=80 src=\"https://media.giphy.com/media/KAq5w47R9rmTuvWOWa/giphy.gif\">\n",
    "\n",
    "<img width=150 src=\"Images/Assembler.png\">"
   ]
  },
  {
   "cell_type": "markdown",
   "id": "8e40902a",
   "metadata": {},
   "source": [
    "***"
   ]
  },
  {
   "cell_type": "markdown",
   "id": "d2bf9968",
   "metadata": {},
   "source": [
    "# Construct a dictionary with numerical keys\n",
    "\n",
    "In the following article\n",
    "\n",
    "[https://www.venrock.com/radical-new-paradigm-quantum-computing-venrocks-investment-atom-computing/](https://www.venrock.com/radical-new-paradigm-quantum-computing-venrocks-investment-atom-computing/)\n",
    "\n",
    "you can find a comparison between the power of bits (the most basic unit of information in computing)\n",
    "and qubits (the \"same\" but for quatum computers<a name=\"cite_ref-1\"></a>[<sup>[1]</sup>](#cite_note-1)).\n",
    "\n",
    "We want to create a dictionary that stores this equivalence. Follow these steps:\n",
    "\n",
    "<br>\n",
    "\n",
    "**1)** Extract from the table within this article the information in the first three rows, for bits and qubits, and store it in two lists, one for each:\n",
    "\n",
    "`list_qubits = [3, 10, 20]`\n",
    "\n",
    "and the same for qubits:\n",
    "\n",
    "`list_bits = [8, 1024, 1048576]`\n",
    "\n",
    "<br>\n",
    "\n",
    "**2)** Now that we have all the required information, let us create the dictionary, but this time from two lists that have a correspondence of 1 to 1. The resulting dictionary must have a structure with the keys with the qubits and their equivalence in bits in the value.\n",
    "\n",
    "You can store the information as you see fit, but it is convenient that if you store the '3' qubits as a string, you do the same with its equivalent in bits, and with the rest of the rows. I.e., '3' : '8' or 3 : 8, but not '3' : 8. Remember that when calling a dictionary item, you have to refer to its key exactly.\n",
    "\n",
    "**Tip:** \n",
    "There are many ways to create a dictionary from two lists. For example, you can take advantage of the `zip()` function.\n",
    "\n",
    "[Here some explanaition](https://www.programiz.com/python-programming/methods/built-in/zip) or google some more, if needed.\n",
    "\n",
    "<br>\n",
    "\n",
    "**3)** Make sure you can access the 3 entries created.\n",
    "\n",
    "<br>\n",
    "\n",
    "<a name=\"cite_note-1\"></a> [[1]](#cite_ref-1) Have you heard of quantum computers? Google it then!! **Do not navigate the web, surf it!**"
   ]
  },
  {
   "cell_type": "code",
   "execution_count": 2,
   "id": "9f890116",
   "metadata": {},
   "outputs": [],
   "source": [
    "# Type the code here:\n",
    "# Create a list for qubits:\n",
    "list_qubits = [3, 10, 20]\n",
    "\n",
    "# and a list for bits\n",
    "list_bits = [8, 1024, 1048576]\n",
    "\n"
   ]
  },
  {
   "cell_type": "markdown",
   "id": "65701741",
   "metadata": {},
   "source": [
    "We tried to create a script that creates a complete dictionary of the realtion between bits and quantum bits. We decided this as a shorcut means as we peek future questions and we thought we may need it in the future:"
   ]
  },
  {
   "cell_type": "code",
   "execution_count": 8,
   "id": "dada05e6",
   "metadata": {
    "scrolled": true
   },
   "outputs": [
    {
     "name": "stdout",
     "output_type": "stream",
     "text": [
      "{0: 1, 1: 2, 2: 4, 3: 8, 4: 16, 5: 32, 6: 64, 7: 128, 8: 256, 9: 512, 10: 1024, 11: 2048, 12: 4096, 13: 8192, 14: 16384, 15: 32768, 16: 65536, 17: 131072, 18: 262144, 19: 524288, 20: 1048576, 21: 2097152, 22: 4194304, 23: 8388608, 24: 16777216, 25: 33554432, 26: 67108864, 27: 134217728, 28: 268435456, 29: 536870912, 30: 1073741824, 31: 2147483648, 32: 4294967296, 33: 8589934592, 34: 17179869184, 35: 34359738368, 36: 68719476736, 37: 137438953472, 38: 274877906944, 39: 549755813888, 40: 1099511627776, 41: 2199023255552, 42: 4398046511104, 43: 8796093022208, 44: 17592186044416, 45: 35184372088832, 46: 70368744177664, 47: 140737488355328, 48: 281474976710656, 49: 562949953421312, 50: 1125899906842624}\n"
     ]
    }
   ],
   "source": [
    "# Type the code here for building the equivalence_dictionry:\n",
    "N=50 \n",
    "#We create an empty dictionary\n",
    "qu_bit={}\n",
    "\n",
    "# We create a dictionary where the keys are the qubits, and the valors are the equivalent bits\n",
    "for num_qubit in range(N+1):\n",
    "    \n",
    "    num_bit=2**num_qubit # conversion formula \n",
    "    \n",
    "    qu_bit[num_qubit]=num_bit # an item (key:valor) is added one by one in each iteration\n",
    "    \n",
    "print(qu_bit)\n",
    "\n",
    "\n"
   ]
  },
  {
   "cell_type": "markdown",
   "id": "8461d0c2",
   "metadata": {},
   "source": [
    "Otherwise we could have make only what it was asked easily:"
   ]
  },
  {
   "cell_type": "code",
   "execution_count": 20,
   "id": "440a01ee",
   "metadata": {},
   "outputs": [
    {
     "data": {
      "text/plain": [
       "{3: 8, 10: 1024, 20: 1048576}"
      ]
     },
     "execution_count": 20,
     "metadata": {},
     "output_type": "execute_result"
    }
   ],
   "source": [
    "qu_bit=dict(zip(list_qubits,list_bits))\n",
    "qu_bit"
   ]
  },
  {
   "cell_type": "markdown",
   "id": "94114e96",
   "metadata": {},
   "source": [
    "**3)**\n",
    "We access the dict by:"
   ]
  },
  {
   "cell_type": "code",
   "execution_count": 21,
   "id": "384ce112",
   "metadata": {},
   "outputs": [
    {
     "name": "stdout",
     "output_type": "stream",
     "text": [
      "8\n",
      "1024\n",
      "1048576\n"
     ]
    }
   ],
   "source": [
    "for i in [3,10,20]:\n",
    "    print(qu_bit[i])"
   ]
  },
  {
   "cell_type": "markdown",
   "id": "64fd4972",
   "metadata": {},
   "source": [
    "**Isn't it surprising that only twenty qubits have the same capacity as a million bits?**\n",
    "\n",
    "Have you read the article? \n",
    "\n",
    "Or have you simply taken the information from it? \n",
    "\n",
    "Just a question... It is not mandatory, it will not be taken in the exam :)\n",
    "\n",
    "Want some more?! \n",
    "\n",
    "[Check this page! You are welcome](https://vincentlauzon.com/2018/03/21/quantum-computing-how-does-it-scale/)\n",
    "\n",
    "<br>\n",
    "\n",
    "**Let us go with a difficult one!**\n",
    "\n",
    "**4)** Create the missing entries between the first and second entrey with the correspondent equivalence.\n",
    "\n",
    "<br>\n",
    "\n",
    "**HELP ME PLEASE!!** \n",
    "\n",
    "There is a mathematical pattern representing this equivalence. Basically, 1 qubit can take the value of two bits, i.e.\n",
    "\n",
    "$$2^1=2\\ .$$ \n",
    "\n",
    "2 qubits can take the values of \n",
    "\n",
    "$$2^2=4 \\text{ bits.}$$  \n",
    "\n",
    "In this manner, $3$ qubits of $2^3$ bits, $4$ of $2^4$, and so on and so forth. Generalizing, $N$ qubits can take the values of \n",
    "\n",
    "$$ 2^N \\text{ bits.}$$\n",
    "\n",
    "\n",
    "**Tip:** Create an iterable ranging from 4 to 9 (inclusive –these are the desired values to fill in–) that automatically fills the dictionary. Mola, right?"
   ]
  },
  {
   "cell_type": "markdown",
   "id": "5ce6fec1",
   "metadata": {},
   "source": [
    " \n",
    "  \n",
    "   \n",
    "    \n",
    "     \n",
    "      \n",
    "<br>      \n",
    "<br>\n",
    "<br>\n",
    "\n",
    "We adjusted our script for this question so only the items that contain the key(quantum-bit) between 3 and 9 were added to the dict we printed. "
   ]
  },
  {
   "cell_type": "code",
   "execution_count": 10,
   "id": "4e261d7d",
   "metadata": {},
   "outputs": [
    {
     "name": "stdout",
     "output_type": "stream",
     "text": [
      "{4: 16, 5: 32, 6: 64, 7: 128, 8: 256, 9: 512}\n"
     ]
    }
   ],
   "source": [
    "# Type the code here:\n",
    "list1=[]\n",
    "\n",
    "for item in qu_bit.items():\n",
    "    if item[0]>3 and item[0]<=9:\n",
    "        list1.append(item) \n",
    "\n",
    "iterable=dict(list1)      \n",
    "print(iterable)    \n",
    "\n",
    "#This is a new way to do the same the foor loop does, in just one line:\n",
    "#list1=[item for item in qu_bit.items() if item[0]>3 and item[0]<=9] "
   ]
  },
  {
   "cell_type": "markdown",
   "id": "474177f2",
   "metadata": {},
   "source": [
    "**Let us move:**\n",
    "\n",
    "**5)** Now, supress the key with 20 cubits \n",
    "\n",
    "**6)** and print the whole dictionary but using the dictionary keys as iterables (to train the syntax).\n",
    "\n",
    "**7)** By the way, we could leave the dictionary in order, right? Sort dictionary by key, in descending order.\n",
    "\n",
    "**8)** Next, complete the tail of the dictionary: for 3, 2, 1 and 0 qubits with an analogous loop,\n",
    "\n",
    "**9)** and sort the dictionary in increasing order but this time, sort it by values (use the `ittemgetter` operator from the `operator` built-in module).\n",
    "\n",
    "<br>\n",
    "\n",
    "**Tip:** When you sort a dictionary by its values, it is no longer as simple as it was by its keys.\n",
    "If you are lost and do not know how to get started, you can google how the `operator` module works and how to use the `itemgetter` operator.\n",
    "\n",
    "Still lost? [On this page you can find different ways to order a dictionary](https://favtutor.com/blogs/python-sort-dictionary). You can use the one with the `ittemgetter` operator directly, but I recommend that you implement all of them. \n",
    "\n",
    "Exploring different alternatives to solve a problem will open your mind ;)\n",
    "\n",
    "In fact, [here you can find the documentation for this operator](https://docs.python.org/2/library/operator.html#operator.itemgetter)"
   ]
  },
  {
   "cell_type": "markdown",
   "id": "34ecaa6f",
   "metadata": {},
   "source": [
    "**5)**"
   ]
  },
  {
   "cell_type": "code",
   "execution_count": 11,
   "id": "503f3546",
   "metadata": {},
   "outputs": [],
   "source": [
    "del qu_bit[20]\n",
    "print (qu_bit)"
   ]
  },
  {
   "cell_type": "markdown",
   "id": "d5a54001",
   "metadata": {},
   "source": [
    "**6)**"
   ]
  },
  {
   "cell_type": "code",
   "execution_count": 13,
   "id": "f88b4eb1",
   "metadata": {},
   "outputs": [
    {
     "name": "stdout",
     "output_type": "stream",
     "text": [
      "0 : 1\n",
      "1 : 2\n",
      "2 : 4\n",
      "3 : 8\n",
      "4 : 16\n",
      "5 : 32\n",
      "6 : 64\n",
      "7 : 128\n",
      "8 : 256\n",
      "9 : 512\n",
      "10 : 1024\n",
      "11 : 2048\n",
      "12 : 4096\n",
      "13 : 8192\n",
      "14 : 16384\n",
      "15 : 32768\n",
      "16 : 65536\n",
      "17 : 131072\n",
      "18 : 262144\n",
      "19 : 524288\n",
      "21 : 2097152\n",
      "22 : 4194304\n",
      "23 : 8388608\n",
      "24 : 16777216\n",
      "25 : 33554432\n",
      "26 : 67108864\n",
      "27 : 134217728\n",
      "28 : 268435456\n",
      "29 : 536870912\n",
      "30 : 1073741824\n",
      "31 : 2147483648\n",
      "32 : 4294967296\n",
      "33 : 8589934592\n",
      "34 : 17179869184\n",
      "35 : 34359738368\n",
      "36 : 68719476736\n",
      "37 : 137438953472\n",
      "38 : 274877906944\n",
      "39 : 549755813888\n",
      "40 : 1099511627776\n",
      "41 : 2199023255552\n",
      "42 : 4398046511104\n",
      "43 : 8796093022208\n",
      "44 : 17592186044416\n",
      "45 : 35184372088832\n",
      "46 : 70368744177664\n",
      "47 : 140737488355328\n",
      "48 : 281474976710656\n",
      "49 : 562949953421312\n",
      "50 : 1125899906842624\n"
     ]
    }
   ],
   "source": [
    "for k,v in qu_bit.items():\n",
    "    print(k,\":\",v)\n"
   ]
  },
  {
   "cell_type": "markdown",
   "id": "901968e4",
   "metadata": {},
   "source": [
    "**7)**"
   ]
  },
  {
   "cell_type": "code",
   "execution_count": 15,
   "id": "ea65171b",
   "metadata": {},
   "outputs": [
    {
     "name": "stdout",
     "output_type": "stream",
     "text": [
      "{50: 1125899906842624, 49: 562949953421312, 48: 281474976710656, 47: 140737488355328, 46: 70368744177664, 45: 35184372088832, 44: 17592186044416, 43: 8796093022208, 42: 4398046511104, 41: 2199023255552, 40: 1099511627776, 39: 549755813888, 38: 274877906944, 37: 137438953472, 36: 68719476736, 35: 34359738368, 34: 17179869184, 33: 8589934592, 32: 4294967296, 31: 2147483648, 30: 1073741824, 29: 536870912, 28: 268435456, 27: 134217728, 26: 67108864, 25: 33554432, 24: 16777216, 23: 8388608, 22: 4194304, 21: 2097152, 19: 524288, 18: 262144, 17: 131072, 16: 65536, 15: 32768, 14: 16384, 13: 8192, 12: 4096, 11: 2048, 10: 1024, 9: 512, 8: 256, 7: 128, 6: 64, 5: 32, 4: 16, 3: 8, 2: 4, 1: 2, 0: 1}\n"
     ]
    }
   ],
   "source": [
    "reversed_qu_bit =dict(reversed(list(qu_bit.items())))\n",
    "print(reversed_qu_bit)"
   ]
  },
  {
   "cell_type": "markdown",
   "id": "9df223c0",
   "metadata": {},
   "source": [
    "**8)**"
   ]
  },
  {
   "cell_type": "code",
   "execution_count": 16,
   "id": "5d116a99",
   "metadata": {},
   "outputs": [
    {
     "name": "stdout",
     "output_type": "stream",
     "text": [
      "{0: 1, 1: 2, 2: 4, 3: 8}\n"
     ]
    }
   ],
   "source": [
    "list1=[]\n",
    "for item in qu_bit.items():\n",
    "    if item[0]<4:\n",
    "        list1.append(item) #list1=[item for item in qu_bit.items() if item[0]>3 and item[0]<=9]\n",
    "        \n",
    "print(dict(list1))"
   ]
  },
  {
   "cell_type": "markdown",
   "id": "0d8dfad1",
   "metadata": {},
   "source": [
    "**9)**"
   ]
  },
  {
   "cell_type": "markdown",
   "id": "88e8b02b",
   "metadata": {},
   "source": [
    "We came up with two different solutions for this question. As the video showed us how to use itemgetter from the operator library to sort different dictionaries, we realised we have just one dictionary. Hence we researched further to use it to sort our dictionary using this method.\n",
    "<br>\n",
    "In the second aproach, we created an iterator using reversed() and created a reversed dictionary of the reversed dictionary, expecting the one we created at the beginning as a result."
   ]
  },
  {
   "cell_type": "code",
   "execution_count": 17,
   "id": "54c7850a",
   "metadata": {},
   "outputs": [
    {
     "name": "stdout",
     "output_type": "stream",
     "text": [
      "{0: 1, 1: 2, 2: 4, 3: 8, 4: 16, 5: 32, 6: 64, 7: 128, 8: 256, 9: 512, 10: 1024, 11: 2048, 12: 4096, 13: 8192, 14: 16384, 15: 32768, 16: 65536, 17: 131072, 18: 262144, 19: 524288, 21: 2097152, 22: 4194304, 23: 8388608, 24: 16777216, 25: 33554432, 26: 67108864, 27: 134217728, 28: 268435456, 29: 536870912, 30: 1073741824, 31: 2147483648, 32: 4294967296, 33: 8589934592, 34: 17179869184, 35: 34359738368, 36: 68719476736, 37: 137438953472, 38: 274877906944, 39: 549755813888, 40: 1099511627776, 41: 2199023255552, 42: 4398046511104, 43: 8796093022208, 44: 17592186044416, 45: 35184372088832, 46: 70368744177664, 47: 140737488355328, 48: 281474976710656, 49: 562949953421312, 50: 1125899906842624}\n"
     ]
    }
   ],
   "source": [
    "from operator import itemgetter\n",
    "sort_qu_bit= dict(sorted(reversed_qu_bit.items(), key=itemgetter(1)))\n",
    "print(sort_qu_bit)"
   ]
  },
  {
   "cell_type": "code",
   "execution_count": 18,
   "id": "0eb6517c",
   "metadata": {},
   "outputs": [
    {
     "name": "stdout",
     "output_type": "stream",
     "text": [
      "The reversed order dictionary  {0: 1, 1: 2, 2: 4, 3: 8, 4: 16, 5: 32, 6: 64, 7: 128, 8: 256, 9: 512, 10: 1024, 11: 2048, 12: 4096, 13: 8192, 14: 16384, 15: 32768, 16: 65536, 17: 131072, 18: 262144, 19: 524288, 21: 2097152, 22: 4194304, 23: 8388608, 24: 16777216, 25: 33554432, 26: 67108864, 27: 134217728, 28: 268435456, 29: 536870912, 30: 1073741824, 31: 2147483648, 32: 4294967296, 33: 8589934592, 34: 17179869184, 35: 34359738368, 36: 68719476736, 37: 137438953472, 38: 274877906944, 39: 549755813888, 40: 1099511627776, 41: 2199023255552, 42: 4398046511104, 43: 8796093022208, 44: 17592186044416, 45: 35184372088832, 46: 70368744177664, 47: 140737488355328, 48: 281474976710656, 49: 562949953421312, 50: 1125899906842624}\n"
     ]
    }
   ],
   "source": [
    "newdict = {}\n",
    "for key in reversed(reversed_qu_bit):\n",
    "    newdict[key] = reversed_qu_bit[key]\n",
    "print(\"The reversed order dictionary \", newdict)"
   ]
  },
  {
   "cell_type": "code",
   "execution_count": null,
   "id": "d163f410",
   "metadata": {},
   "outputs": [],
   "source": []
  }
 ],
 "metadata": {
  "kernelspec": {
   "display_name": "Python 3 (ipykernel)",
   "language": "python",
   "name": "python3"
  },
  "language_info": {
   "codemirror_mode": {
    "name": "ipython",
    "version": 3
   },
   "file_extension": ".py",
   "mimetype": "text/x-python",
   "name": "python",
   "nbconvert_exporter": "python",
   "pygments_lexer": "ipython3",
   "version": "3.9.12"
  },
  "toc": {
   "base_numbering": 1,
   "nav_menu": {},
   "number_sections": true,
   "sideBar": true,
   "skip_h1_title": true,
   "title_cell": "Table of Contents",
   "title_sidebar": "Contents",
   "toc_cell": false,
   "toc_position": {
    "height": "calc(100% - 180px)",
    "left": "10px",
    "top": "150px",
    "width": "375.851px"
   },
   "toc_section_display": true,
   "toc_window_display": false
  }
 },
 "nbformat": 4,
 "nbformat_minor": 5
}
