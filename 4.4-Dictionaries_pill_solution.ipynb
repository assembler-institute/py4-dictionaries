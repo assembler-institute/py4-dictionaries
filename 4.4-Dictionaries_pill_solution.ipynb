{
 "cells": [
  {
   "cell_type": "markdown",
   "id": "413f4c2a",
   "metadata": {},
   "source": [
    "# Dictionaries pill (solutions)"
   ]
  },
  {
   "cell_type": "markdown",
   "id": "4eb94b6c",
   "metadata": {},
   "source": [
    "<img width=80 src=\"https://media.giphy.com/media/KAq5w47R9rmTuvWOWa/giphy.gif\">\n",
    "\n",
    "<img width=150 src=\"Images/Assembler.png\">"
   ]
  },
  {
   "cell_type": "markdown",
   "id": "8e40902a",
   "metadata": {},
   "source": [
    "***"
   ]
  },
  {
   "cell_type": "markdown",
   "id": "d2bf9968",
   "metadata": {},
   "source": [
    "# Construct a dictionary with numerical keys\n",
    "\n",
    "In the following article\n",
    "\n",
    "[https://www.venrock.com/radical-new-paradigm-quantum-computing-venrocks-investment-atom-computing/](https://www.venrock.com/radical-new-paradigm-quantum-computing-venrocks-investment-atom-computing/)\n",
    "\n",
    "you can find a comparison between the power of bits (the most basic unit of information in computing)\n",
    "and qubits (the \"same\" but for quatum computers<a name=\"cite_ref-1\"></a>[<sup>[1]</sup>](#cite_note-1)).\n",
    "\n",
    "We want to create a dictionary that stores this equivalence. Follow these steps:\n",
    "\n",
    "<br>\n",
    "\n",
    "**1)** Extract from the table within this article the information in the first three rows, for bits and qubits, and store it in two lists, one for each:\n",
    "\n",
    "`list_qubits = [3, 10, 20]`\n",
    "\n",
    "and the same for qubits:\n",
    "\n",
    "`list_bits = [8, 1024, 1048576]`\n",
    "\n",
    "<br>\n",
    "\n",
    "**2)** Now that we have all the required information, let us create the dictionary, but this time from two lists that have a correspondence of 1 to 1. The resulting dictionary must have a structure with the keys with the qubits and their equivalence in bits in the value.\n",
    "\n",
    "You can store the information as you see fit, but it is convenient that if you store the '3' qubits as a string, you do the same with its equivalent in bits, and with the rest of the rows. I.e., '3' : '8' or 3 : 8, but not '3' : 8. Remember that when calling a dictionary item, you have to refer to its key exactly.\n",
    "\n",
    "**Tip:** \n",
    "There are many ways to create a dictionary from two lists. For example, you can take advantage of the `zip()` function.\n",
    "\n",
    "[Here some explanaition](https://www.programiz.com/python-programming/methods/built-in/zip) or google some more, if needed.\n",
    "\n",
    "<br>\n",
    "\n",
    "**3)** Make sure you can access the 3 entries created.\n",
    "\n",
    "<br>\n",
    "\n",
    "<a name=\"cite_note-1\"></a> [[1]](#cite_ref-1) Have you heard of quantum computers? Google it then!! **Do not navigate the web, surf it!**"
   ]
  },
  {
   "cell_type": "code",
   "execution_count": 31,
   "id": "9f890116",
   "metadata": {},
   "outputs": [],
   "source": [
    "# Type the code here:\n",
    "# Create a list for qubits\n",
    "qubits = [3,10,20]\n",
    "\n",
    "# and a list for bits\n",
    "bits = [8, 1024, 1048576]"
   ]
  },
  {
   "cell_type": "code",
   "execution_count": 32,
   "id": "dada05e6",
   "metadata": {},
   "outputs": [],
   "source": [
    "# option 1:\n",
    "equivalence_dictionry = dict(zip(qubits, bits))"
   ]
  },
  {
   "cell_type": "code",
   "execution_count": 35,
   "id": "6406bd88",
   "metadata": {},
   "outputs": [
    {
     "data": {
      "text/plain": [
       "{3: 8, 10: 1024, 20: 1048576}"
      ]
     },
     "execution_count": 35,
     "metadata": {},
     "output_type": "execute_result"
    }
   ],
   "source": [
    "# option 2:\n",
    "equivalence_dictionry_bis = {qubits[i]:bits[i] for i in range(len(qubits))}\n",
    "equivalence_dictionry_bis"
   ]
  },
  {
   "cell_type": "code",
   "execution_count": 34,
   "id": "c90a6f45",
   "metadata": {},
   "outputs": [
    {
     "data": {
      "text/plain": [
       "{3: 8, 10: 1024, 20: 1048576}"
      ]
     },
     "execution_count": 34,
     "metadata": {},
     "output_type": "execute_result"
    }
   ],
   "source": [
    "equivalence_dictionry"
   ]
  },
  {
   "cell_type": "code",
   "execution_count": null,
   "id": "32c22520",
   "metadata": {},
   "outputs": [],
   "source": [
    "equivalence_dictionry[3]"
   ]
  },
  {
   "cell_type": "code",
   "execution_count": null,
   "id": "3cc8e19f",
   "metadata": {
    "scrolled": true
   },
   "outputs": [],
   "source": [
    "equivalence_dictionry[10]"
   ]
  },
  {
   "cell_type": "code",
   "execution_count": null,
   "id": "6aac9e2b",
   "metadata": {},
   "outputs": [],
   "source": [
    "equivalence_dictionry[20]"
   ]
  },
  {
   "cell_type": "markdown",
   "id": "64fd4972",
   "metadata": {},
   "source": [
    "**Isn't it surprising that only twenty qubits have the same capacity as a million bits?**\n",
    "\n",
    "Have you read the article? \n",
    "\n",
    "Or have you simply taken the information from it? \n",
    "\n",
    "Just a question... It is not mandatory, it will not be taken in the exam :)\n",
    "\n",
    "Want some more?! \n",
    "\n",
    "[Check this page! You are welcome](https://vincentlauzon.com/2018/03/21/quantum-computing-how-does-it-scale/)\n",
    "\n",
    "<br>\n",
    "\n",
    "**Let us go with a difficult one!**\n",
    "\n",
    "**4)** Create the missing entries between the first and second entrey with the correspondent equivalence.\n",
    "\n",
    "<br>\n",
    "\n",
    "**HELP ME PLEASE!!** \n",
    "\n",
    "There is a mathematical pattern representing this equivalence. Basically, 1 qubit can take the value of two bits, i.e.\n",
    "\n",
    "$$2^1=2\\ .$$ \n",
    "\n",
    "2 qubits can take the values of \n",
    "\n",
    "$$2^2=4 \\text{ bits.}$$  \n",
    "\n",
    "In this manner, $3$ qubits of $2^3$ bits, $4$ of $2^4$, and so on and so forth. Generalizing, $N$ qubits can take the values of \n",
    "\n",
    "$$ 2^N \\text{ bits.}$$\n",
    "\n",
    "\n",
    "**Tip:** Create an iterable ranging from 4 to 9 (inclusive –these are the desired values to fill in–) that automatically fills the dictionary. Mola, right?"
   ]
  },
  {
   "cell_type": "code",
   "execution_count": 36,
   "id": "4e261d7d",
   "metadata": {},
   "outputs": [
    {
     "name": "stdout",
     "output_type": "stream",
     "text": [
      "4 ---> 16\n",
      "5 ---> 32\n",
      "6 ---> 64\n",
      "7 ---> 128\n",
      "8 ---> 256\n",
      "9 ---> 512\n"
     ]
    }
   ],
   "source": [
    "# Type the code here:\n",
    "for i in range(4,10):\n",
    "    equivalence_dictionry[i] = 2**i\n",
    "    print(i, '--->', equivalence_dictionry[i])"
   ]
  },
  {
   "cell_type": "code",
   "execution_count": 37,
   "id": "51d15f0d",
   "metadata": {},
   "outputs": [
    {
     "data": {
      "text/plain": [
       "{3: 8, 10: 1024, 20: 1048576, 4: 16, 5: 32, 6: 64, 7: 128, 8: 256, 9: 512}"
      ]
     },
     "execution_count": 37,
     "metadata": {},
     "output_type": "execute_result"
    }
   ],
   "source": [
    "equivalence_dictionry"
   ]
  },
  {
   "cell_type": "markdown",
   "id": "474177f2",
   "metadata": {},
   "source": [
    "**Let us move:**\n",
    "\n",
    "**5)** Now, supress the key with 20 cubits \n",
    "\n",
    "**6)** and print the whole dictionary but using the dictionary keys as iterables (to train the syntax).\n",
    "\n",
    "**7)** By the way, we could leave the dictionary in order, right? Sort dictionary by key, in descending order.\n",
    "\n",
    "**8)** Next, complete the tail of the dictionary: for 3, 2, 1 and 0 qubits with an analogous loop,\n",
    "\n",
    "**9)** and sort the dictionary in increasing order but this time, sort it by values (use the `ittemgetter` operator from the `operator` built-in module).\n",
    "\n",
    "<br>\n",
    "\n",
    "**Tip:** When you sort a dictionary by its values, it is no longer as simple as it was by its keys.\n",
    "If you are lost and do not know how to get started, you can google how the `operator` module works and how to use the `itemgetter` operator.\n",
    "\n",
    "Still lost? [On this page you can find different ways to order a dictionary](https://favtutor.com/blogs/python-sort-dictionary). You can use the one with the `ittemgetter` operator directly, but I recommend that you implement all of them. \n",
    "\n",
    "Exploring different alternatives to solve a problem will open your mind ;)\n",
    "\n",
    "In fact, [here you can find the documentation for this operator](https://docs.python.org/2/library/operator.html#operator.itemgetter)"
   ]
  },
  {
   "cell_type": "code",
   "execution_count": 38,
   "id": "f88b4eb1",
   "metadata": {},
   "outputs": [],
   "source": [
    "# Type the code here:\n",
    "del equivalence_dictionry[20]"
   ]
  },
  {
   "cell_type": "code",
   "execution_count": 39,
   "id": "9a2abc15",
   "metadata": {},
   "outputs": [
    {
     "name": "stdout",
     "output_type": "stream",
     "text": [
      "3 qubits can take the values of 8 bits\n",
      "10 qubits can take the values of 1024 bits\n",
      "4 qubits can take the values of 16 bits\n",
      "5 qubits can take the values of 32 bits\n",
      "6 qubits can take the values of 64 bits\n",
      "7 qubits can take the values of 128 bits\n",
      "8 qubits can take the values of 256 bits\n",
      "9 qubits can take the values of 512 bits\n"
     ]
    }
   ],
   "source": [
    "for k in equivalence_dictionry.keys():\n",
    "    print(f\"{k} qubits can take the values of {equivalence_dictionry[k]} bits\")"
   ]
  },
  {
   "cell_type": "code",
   "execution_count": 40,
   "id": "4e773b88",
   "metadata": {},
   "outputs": [],
   "source": [
    "equivalence_dictionry_decrease = dict(sorted(equivalence_dictionry.items(), reverse = True))"
   ]
  },
  {
   "cell_type": "code",
   "execution_count": 41,
   "id": "88984a9e",
   "metadata": {},
   "outputs": [
    {
     "data": {
      "text/plain": [
       "{10: 1024, 9: 512, 8: 256, 7: 128, 6: 64, 5: 32, 4: 16, 3: 8}"
      ]
     },
     "execution_count": 41,
     "metadata": {},
     "output_type": "execute_result"
    }
   ],
   "source": [
    "equivalence_dictionry_decrease"
   ]
  },
  {
   "cell_type": "code",
   "execution_count": 43,
   "id": "1ffa55eb",
   "metadata": {},
   "outputs": [
    {
     "data": {
      "text/plain": [
       "{3: 8, 10: 1024, 4: 16, 5: 32, 6: 64, 7: 128, 8: 256, 9: 512, 0: 1, 1: 2, 2: 4}"
      ]
     },
     "execution_count": 43,
     "metadata": {},
     "output_type": "execute_result"
    }
   ],
   "source": [
    "for i in range(3):\n",
    "    equivalence_dictionry[i] = 2**i\n",
    "\n",
    "equivalence_dictionry"
   ]
  },
  {
   "cell_type": "code",
   "execution_count": 44,
   "id": "ec6035cd",
   "metadata": {},
   "outputs": [],
   "source": [
    "# Sort dictionary by value\n",
    "from operator import itemgetter\n",
    "equivalence_dictionry_sorted= dict(sorted(equivalence_dictionry.items(), key=itemgetter(1)))"
   ]
  },
  {
   "cell_type": "code",
   "execution_count": 45,
   "id": "5dff488d",
   "metadata": {},
   "outputs": [
    {
     "data": {
      "text/plain": [
       "{0: 1, 1: 2, 2: 4, 3: 8, 4: 16, 5: 32, 6: 64, 7: 128, 8: 256, 9: 512, 10: 1024}"
      ]
     },
     "execution_count": 45,
     "metadata": {},
     "output_type": "execute_result"
    }
   ],
   "source": [
    "equivalence_dictionry_sorted"
   ]
  }
 ],
 "metadata": {
  "kernelspec": {
   "display_name": "Python 3 (ipykernel)",
   "language": "python",
   "name": "python3"
  },
  "language_info": {
   "codemirror_mode": {
    "name": "ipython",
    "version": 3
   },
   "file_extension": ".py",
   "mimetype": "text/x-python",
   "name": "python",
   "nbconvert_exporter": "python",
   "pygments_lexer": "ipython3",
   "version": "3.9.12"
  },
  "toc": {
   "base_numbering": 1,
   "nav_menu": {},
   "number_sections": true,
   "sideBar": true,
   "skip_h1_title": true,
   "title_cell": "Table of Contents",
   "title_sidebar": "Contents",
   "toc_cell": false,
   "toc_position": {
    "height": "calc(100% - 180px)",
    "left": "10px",
    "top": "150px",
    "width": "375.851px"
   },
   "toc_section_display": true,
   "toc_window_display": false
  }
 },
 "nbformat": 4,
 "nbformat_minor": 5
}
