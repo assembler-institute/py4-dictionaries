{
 "cells": [
  {
   "cell_type": "markdown",
   "id": "413f4c2a",
   "metadata": {},
   "source": [
    "# Dictionaries Task Sheet (solutions)"
   ]
  },
  {
   "cell_type": "markdown",
   "id": "169ae179",
   "metadata": {},
   "source": [
    "<img width=80 src=\"https://media.giphy.com/media/KAq5w47R9rmTuvWOWa/giphy.gif\">\n",
    "\n",
    "<img width=150 src=\"Images/Assembler.png\">"
   ]
  },
  {
   "cell_type": "markdown",
   "id": "1eeef4db",
   "metadata": {},
   "source": [
    "# Important:\n",
    "\n",
    "- Comment your code explaining what each part does when you consider it.\n",
    "- We are asking about two types of problems. The first type are solved with code cells, and the second with markdown type cells (where the solution must be thought without executing code cells). This will be indicated in each problem.\n",
    "- Always respect the format of the solution and the instructions!"
   ]
  },
  {
   "cell_type": "markdown",
   "id": "9e90dfa2",
   "metadata": {},
   "source": [
    "# Recommendations:\n",
    "\n",
    "- There are as many ways to solve a problem as there are people in the world. Find yours!\n",
    "- Create as many variables as you want. They cost nothing and are worth it for the sake of clarity.\n",
    "- You can add cells if needed. \n",
    "- Remember that there are two types of cells: code and markdown. Use both. Explanations never hurt.\n",
    "- There are several ways to approach the same problem. Try not to repeat your way of thinking.\n",
    "- If different syntaxes lead to the same result, explore them.\n",
    "- Use internet in a smart way. Don't look at how to solve the problem in its entirety; it is better to learn methods that lead your logical reasoning to the solution.\n",
    "- Once you have a plan to address the problem, try breaking your code into manageable chunks.\n",
    "- Use `print()` and `type()` functions in the middle of your code to understand what your code is actually doing."
   ]
  },
  {
   "cell_type": "markdown",
   "id": "8e40902a",
   "metadata": {},
   "source": [
    "***"
   ]
  },
  {
   "cell_type": "markdown",
   "id": "b0046683",
   "metadata": {},
   "source": [
    "## Dictionary builder\n",
    "\n",
    "Build a dictionary builder algorithm to store the characteristics of a person: first name, second name (if any), first and second surnames, age, gender, email or any key you want. The algorithm will ask you to enter keys as input and will use them as long as the key has not been entered before (remember that dictionaries do not allow duplicates). If the new key already exists, print a message mentioning it and request another one. Next, it will ask you for the values corresponding to the keys. Both fields have to be requested by keyboard. The ingestion concludes by entering a blank key (this message must be attached to the key request so that the user knows how to proceed).\n",
    "\n",
    "**Finally, solve by programming:**\n",
    "\n",
    "- Print the number of elements in the dictionary.\n",
    "\n",
    "- Which word is longer: your first name or your last name? Compare both fields and print a message according to which one has more characters.\n",
    "\n",
    "- Print all the keys, then all the values, and finally the key and value pairs.\n",
    "\n",
    "- Taking advantage of the previous item, iterate over the dictionary, check and print if any value contains the letter \"m\" in upper or lower case.\n",
    "\n",
    "- A login name is required for the person profile: create a new name using the first three letters of your first name and the second and fourth letters of your last name. Create a new entry in the dictionary with this field.\n",
    "\n",
    "- Delete all the elements of the dictionary, but not the dictionary itself."
   ]
  },
  {
   "cell_type": "code",
   "execution_count": 10,
   "id": "2d9262ca",
   "metadata": {},
   "outputs": [
    {
     "name": "stdout",
     "output_type": "stream",
     "text": [
      "Introduce a key name (in blanck to finish):name\n",
      "Introduce the corresponding value for that key:Luciano\n",
      "Introduce another key (in blanck to finish):second name\n",
      "Introduce the corresponding value for that key:Baldomero\n",
      "Introduce another key (in blanck to finish):surname\n",
      "Introduce the corresponding value for that key:Gabbanelli\n",
      "Introduce another key (in blanck to finish):age\n",
      "Introduce the corresponding value for that key:18\n",
      "Introduce another key (in blanck to finish):mail\n",
      "Introduce the corresponding value for that key:l.gabbanelli@assemblerschool.com\n",
      "Introduce another key (in blanck to finish):\n",
      "{'name': 'Luciano', 'second name': 'Baldomero', 'surname': 'Gabbanelli', 'age': '18', 'mail': 'l.gabbanelli@assemblerschool.com'}\n"
     ]
    }
   ],
   "source": [
    "# Type the code here:\n",
    "your_dictionary = dict()\n",
    "key_name = input(\"Introduce a key name (in blanck to finish):\")\n",
    "\n",
    "while key_name != '':\n",
    "    if not(key_name in your_dictionary):\n",
    "        value_name = input(\"Introduce the corresponding value for that key:\")\n",
    "        your_dictionary[key_name] = value_name\n",
    "    else:\n",
    "        print('The key you entered already exists. Try another one:')\n",
    "    key_name = input(\"Introduce another key (in blanck to finish):\")\n",
    "    \n",
    "print(your_dictionary)"
   ]
  },
  {
   "cell_type": "code",
   "execution_count": 11,
   "id": "198f53c1",
   "metadata": {},
   "outputs": [
    {
     "data": {
      "text/plain": [
       "5"
      ]
     },
     "execution_count": 11,
     "metadata": {},
     "output_type": "execute_result"
    }
   ],
   "source": [
    "len(your_dictionary)"
   ]
  },
  {
   "cell_type": "code",
   "execution_count": 12,
   "id": "5f8e828f",
   "metadata": {},
   "outputs": [
    {
     "name": "stdout",
     "output_type": "stream",
     "text": [
      "The last name is longer than the first name.\n"
     ]
    }
   ],
   "source": [
    "if len(your_dictionary['name']) > len(your_dictionary['surname']):\n",
    "    print(f\"First name is longer than last name.\")\n",
    "elif len(your_dictionary['name']) == len(your_dictionary['surname']):\n",
    "    print('Name and surname are the same length.')\n",
    "else:\n",
    "    print(\"The last name is longer than the first name.\")"
   ]
  },
  {
   "cell_type": "code",
   "execution_count": 13,
   "id": "01c4f111",
   "metadata": {},
   "outputs": [
    {
     "data": {
      "text/plain": [
       "dict_keys(['name', 'second name', 'surname', 'age', 'mail'])"
      ]
     },
     "execution_count": 13,
     "metadata": {},
     "output_type": "execute_result"
    }
   ],
   "source": [
    "your_dictionary.keys()"
   ]
  },
  {
   "cell_type": "code",
   "execution_count": 14,
   "id": "09c30976",
   "metadata": {},
   "outputs": [
    {
     "data": {
      "text/plain": [
       "dict_values(['Luciano', 'Baldomero', 'Gabbanelli', '18', 'l.gabbanelli@assemblerschool.com'])"
      ]
     },
     "execution_count": 14,
     "metadata": {},
     "output_type": "execute_result"
    }
   ],
   "source": [
    "your_dictionary.values()"
   ]
  },
  {
   "cell_type": "code",
   "execution_count": 15,
   "id": "06fc0075",
   "metadata": {},
   "outputs": [
    {
     "data": {
      "text/plain": [
       "dict_items([('name', 'Luciano'), ('second name', 'Baldomero'), ('surname', 'Gabbanelli'), ('age', '18'), ('mail', 'l.gabbanelli@assemblerschool.com')])"
      ]
     },
     "execution_count": 15,
     "metadata": {},
     "output_type": "execute_result"
    }
   ],
   "source": [
    "your_dictionary.items()"
   ]
  },
  {
   "cell_type": "code",
   "execution_count": 16,
   "id": "05350d1d",
   "metadata": {},
   "outputs": [
    {
     "name": "stdout",
     "output_type": "stream",
     "text": [
      "second name  :  Baldomero\n",
      "mail  :  l.gabbanelli@assemblerschool.com\n"
     ]
    }
   ],
   "source": [
    "for key, value in your_dictionary.items():\n",
    "    if (\"m\" in value) or (\"M\" in value):\n",
    "        print(key, ' : ', value)"
   ]
  },
  {
   "cell_type": "code",
   "execution_count": 17,
   "id": "fde50990",
   "metadata": {},
   "outputs": [],
   "source": [
    "your_dictionary['login_name'] = your_dictionary['name'][0:3] + your_dictionary['surname'][0] + your_dictionary['surname'][2]"
   ]
  },
  {
   "cell_type": "code",
   "execution_count": 19,
   "id": "28e026bd",
   "metadata": {},
   "outputs": [
    {
     "data": {
      "text/plain": [
       "{'name': 'Luciano',\n",
       " 'second name': 'Baldomero',\n",
       " 'surname': 'Gabbanelli',\n",
       " 'age': '18',\n",
       " 'mail': 'l.gabbanelli@assemblerschool.com',\n",
       " 'login_name': 'LucGb'}"
      ]
     },
     "execution_count": 19,
     "metadata": {},
     "output_type": "execute_result"
    }
   ],
   "source": [
    "your_dictionary"
   ]
  },
  {
   "cell_type": "code",
   "execution_count": 20,
   "id": "90aaa7c4",
   "metadata": {},
   "outputs": [],
   "source": [
    "your_dictionary.clear()"
   ]
  },
  {
   "cell_type": "code",
   "execution_count": 21,
   "id": "36d200a3",
   "metadata": {},
   "outputs": [
    {
     "data": {
      "text/plain": [
       "{}"
      ]
     },
     "execution_count": 21,
     "metadata": {},
     "output_type": "execute_result"
    }
   ],
   "source": [
    "your_dictionary"
   ]
  },
  {
   "cell_type": "markdown",
   "id": "f4adda9b",
   "metadata": {},
   "source": [
    "## Operate on items in a dictionary\n",
    "\n",
    "- Write an algorithm to sum all samples in the following dictionary.\n",
    "- And write another one to multiply all the items in a dictionary.\n",
    "- The keys have spaces. Spaces are generally unwanted characters for names. Replace them by underscores, i.e. `_`.\n",
    "\n",
    "*(Solution 1: 416, Solution 2: 20_424_000)*"
   ]
  },
  {
   "cell_type": "code",
   "execution_count": 70,
   "id": "0f4f24f5",
   "metadata": {},
   "outputs": [],
   "source": [
    "dict_data = {'sample 1':100, 'sample 2': -37, 'sample 3': 368, 'sample 4': -15}"
   ]
  },
  {
   "cell_type": "code",
   "execution_count": 71,
   "id": "91c41bdf",
   "metadata": {},
   "outputs": [
    {
     "name": "stdout",
     "output_type": "stream",
     "text": [
      "416\n"
     ]
    }
   ],
   "source": [
    "# Type the code here:\n",
    "print(sum(dict_data.values()))"
   ]
  },
  {
   "cell_type": "code",
   "execution_count": 72,
   "id": "5a004bc2",
   "metadata": {},
   "outputs": [
    {
     "name": "stdout",
     "output_type": "stream",
     "text": [
      "20424000\n"
     ]
    }
   ],
   "source": [
    "result=1\n",
    "for key in dict_data:    \n",
    "    result = result * dict_data[key]\n",
    "\n",
    "print(result)"
   ]
  },
  {
   "cell_type": "code",
   "execution_count": 77,
   "id": "d49c2a5b",
   "metadata": {},
   "outputs": [
    {
     "data": {
      "text/plain": [
       "{'sample_1': 100, 'sample_2': -37, 'sample_3': 368, 'sample_4': -15}"
      ]
     },
     "execution_count": 77,
     "metadata": {},
     "output_type": "execute_result"
    }
   ],
   "source": [
    "dict_data = { k.replace(' ', '_'): v for k, v in dict_data.items() }\n",
    "dict_data"
   ]
  },
  {
   "cell_type": "markdown",
   "id": "c5730a09",
   "metadata": {},
   "source": [
    "## Inversion of a dictionary. \n",
    "\n",
    "**What if I want the keys to be the values and the values to be the keys?**\n",
    "\n",
    "Your group is conducting an analysis of the population in some of the most populous cities in the world. They have managed to extract the data into a dictionary, but this dictionary is inverted for the purposes for which it is needed. \n",
    "\n",
    "a. How many elements does the dictionary have?\n",
    "\n",
    "b. Make the dictionary have the names of the cities as keys and their population as value.\n",
    "\n",
    "c. Sort the dictionary alphabetically."
   ]
  },
  {
   "cell_type": "code",
   "execution_count": 22,
   "id": "c5be312e",
   "metadata": {},
   "outputs": [],
   "source": [
    "city_population = {\n",
    "    37_435_191: 'Tokyo',\n",
    "    21_846_507: 'Sao Paulo',\n",
    "    20_484_965: 'Cairo',\n",
    "    15_636_243: 'Istanbul' ,\n",
    "    15_369_919: 'Buenos Aires',\n",
    "    14_406_059: 'Manila',\n",
    "    12_640_818: 'Moscow',\n",
    "    8_930_002: 'New York City',\n",
    "    6_713_557: 'Madrid',\n",
    "    6_065_354: 'Johannesburg',\n",
    "    5_658_472: 'Barcelona',\n",
    "    4_297_877: 'Rome',\n",
    "    3_452_315: 'Asuncion'\n",
    "}"
   ]
  },
  {
   "cell_type": "code",
   "execution_count": 23,
   "id": "e9511c39",
   "metadata": {},
   "outputs": [
    {
     "data": {
      "text/plain": [
       "13"
      ]
     },
     "execution_count": 23,
     "metadata": {},
     "output_type": "execute_result"
    }
   ],
   "source": [
    "# Type the code here:\n",
    "len(city_population)"
   ]
  },
  {
   "cell_type": "markdown",
   "id": "f261e13d",
   "metadata": {},
   "source": [
    "Any of the following three possibilities:"
   ]
  },
  {
   "cell_type": "code",
   "execution_count": 25,
   "id": "c75d358f",
   "metadata": {},
   "outputs": [
    {
     "data": {
      "text/plain": [
       "{'Tokyo': 37435191,\n",
       " 'Sao Paulo': 21846507,\n",
       " 'Cairo': 20484965,\n",
       " 'Istanbul': 15636243,\n",
       " 'Buenos Aires': 15369919,\n",
       " 'Manila': 14406059,\n",
       " 'Moscow': 12640818,\n",
       " 'New York City': 8930002,\n",
       " 'Madrid': 6713557,\n",
       " 'Johannesburg': 6065354,\n",
       " 'Barcelona': 5658472,\n",
       " 'Rome': 4297877,\n",
       " 'Asuncion': 3452315}"
      ]
     },
     "execution_count": 25,
     "metadata": {},
     "output_type": "execute_result"
    }
   ],
   "source": [
    "city_population_inv = {v: k for k, v in city_population.items()}\n",
    "city_population_inv"
   ]
  },
  {
   "cell_type": "code",
   "execution_count": 27,
   "id": "572c2c03",
   "metadata": {},
   "outputs": [
    {
     "data": {
      "text/plain": [
       "{'Tokyo': 37435191,\n",
       " 'Sao Paulo': 21846507,\n",
       " 'Cairo': 20484965,\n",
       " 'Istanbul': 15636243,\n",
       " 'Buenos Aires': 15369919,\n",
       " 'Manila': 14406059,\n",
       " 'Moscow': 12640818,\n",
       " 'New York City': 8930002,\n",
       " 'Madrid': 6713557,\n",
       " 'Johannesburg': 6065354,\n",
       " 'Barcelona': 5658472,\n",
       " 'Rome': 4297877,\n",
       " 'Asuncion': 3452315}"
      ]
     },
     "execution_count": 27,
     "metadata": {},
     "output_type": "execute_result"
    }
   ],
   "source": [
    "city_population_inv = dict((v, k) for k, v in city_population.items())\n",
    "city_population_inv"
   ]
  },
  {
   "cell_type": "code",
   "execution_count": 28,
   "id": "830578ea",
   "metadata": {},
   "outputs": [
    {
     "data": {
      "text/plain": [
       "{'Tokyo': 37435191,\n",
       " 'Sao Paulo': 21846507,\n",
       " 'Cairo': 20484965,\n",
       " 'Istanbul': 15636243,\n",
       " 'Buenos Aires': 15369919,\n",
       " 'Manila': 14406059,\n",
       " 'Moscow': 12640818,\n",
       " 'New York City': 8930002,\n",
       " 'Madrid': 6713557,\n",
       " 'Johannesburg': 6065354,\n",
       " 'Barcelona': 5658472,\n",
       " 'Rome': 4297877,\n",
       " 'Asuncion': 3452315}"
      ]
     },
     "execution_count": 28,
     "metadata": {},
     "output_type": "execute_result"
    }
   ],
   "source": [
    "for (k,v) in city_population.items():\n",
    "    city_population_inv[v] = k\n",
    "city_population_inv"
   ]
  },
  {
   "cell_type": "code",
   "execution_count": 29,
   "id": "7070f196",
   "metadata": {},
   "outputs": [],
   "source": [
    "city_population_inv = dict(sorted(city_population_inv.items()))"
   ]
  },
  {
   "cell_type": "code",
   "execution_count": 30,
   "id": "af84d117",
   "metadata": {},
   "outputs": [
    {
     "data": {
      "text/plain": [
       "{'Asuncion': 3452315,\n",
       " 'Barcelona': 5658472,\n",
       " 'Buenos Aires': 15369919,\n",
       " 'Cairo': 20484965,\n",
       " 'Istanbul': 15636243,\n",
       " 'Johannesburg': 6065354,\n",
       " 'Madrid': 6713557,\n",
       " 'Manila': 14406059,\n",
       " 'Moscow': 12640818,\n",
       " 'New York City': 8930002,\n",
       " 'Rome': 4297877,\n",
       " 'Sao Paulo': 21846507,\n",
       " 'Tokyo': 37435191}"
      ]
     },
     "execution_count": 30,
     "metadata": {},
     "output_type": "execute_result"
    }
   ],
   "source": [
    "city_population_inv"
   ]
  },
  {
   "cell_type": "markdown",
   "id": "8a61f536",
   "metadata": {},
   "source": [
    "## Concatenation of dictionaries\n",
    "\n",
    "Write a Python program to concatenate the following dictionaries to create a new one.\n",
    "\n",
    "`dict_1 = {'module_1' : {'Python', 'R'}, 'module_2': {'R', 'PostgreSQL', 'Databricks'}}`\n",
    "\n",
    "`dict_2 = {'module_3' : {'MongoDB', 'Neo4j', 'Pentaho'}, 'module_4': {'MongoDB', 'Anaconda', 'Amazon SageMaker'}}`\n",
    "\n",
    "`dict_3 = {'module_5' : {'Tensor Flow'}, 'module_6': {'Final project'}}`"
   ]
  },
  {
   "cell_type": "code",
   "execution_count": 60,
   "id": "eaf44b57",
   "metadata": {},
   "outputs": [
    {
     "name": "stdout",
     "output_type": "stream",
     "text": [
      "{'module_1': {'Python', 'R'}, 'module_2': {'PostgreSQL', 'R', 'Databricks'}}\n",
      "{'module_3': {'Neo4j', 'MongoDB', 'Pentaho'}, 'module_4': {'Anaconda', 'MongoDB', 'Amazon SageMaker'}}\n",
      "{'module_5': {'Tensor Flow'}, 'module_6': {'Final project'}}\n"
     ]
    }
   ],
   "source": [
    "# Type the code here:\n",
    "dict_1 = {'module_1' : {'Python', 'R'}, 'module_2': {'R', 'PostgreSQL', 'Databricks'}}\n",
    "dict_2 = {'module_3' : {'MongoDB', 'Neo4j', 'Pentaho'}, 'module_4': {'MongoDB', 'Anaconda', 'Amazon SageMaker'}}\n",
    "dict_3 = {'module_5' : {'Tensor Flow'}, 'module_6': {'Final project'}}\n",
    "\n",
    "print(dict_1,dict_2,dict_3, sep='\\n')"
   ]
  },
  {
   "cell_type": "code",
   "execution_count": 62,
   "id": "3478d123",
   "metadata": {},
   "outputs": [
    {
     "data": {
      "text/plain": [
       "{'module_1': {'Python', 'R'},\n",
       " 'module_2': {'Databricks', 'PostgreSQL', 'R'},\n",
       " 'module_3': {'MongoDB', 'Neo4j', 'Pentaho'},\n",
       " 'module_4': {'Amazon SageMaker', 'Anaconda', 'MongoDB'},\n",
       " 'module_5': {'Tensor Flow'},\n",
       " 'module_6': {'Final project'}}"
      ]
     },
     "execution_count": 62,
     "metadata": {},
     "output_type": "execute_result"
    }
   ],
   "source": [
    "dict_4 = {}\n",
    "for d in (dict_1,dict_2,dict_3): dict_4.update(d)\n",
    "dict_4"
   ]
  },
  {
   "cell_type": "markdown",
   "id": "c1e879da",
   "metadata": {},
   "source": [
    "## Nested dictionaries to catalog satellites in orbit around the Earth"
   ]
  },
  {
   "cell_type": "markdown",
   "id": "003ad88b",
   "metadata": {},
   "source": [
    "On this [web page](https://www.visualcapitalist.com/visualizing-all-of-earths-satellites/), you can be updated on the status of the satellites that surround us on Earth.\n",
    "\n",
    "We are interested in documenting the number of satellites in orbit *per* company. This information can be found in the last table in section \"Every Commercial Satellite in One Table\" of the following article:\n",
    "\n",
    "<br/>\n",
    "\n",
    "<center>\n",
    "https://www.visualcapitalist.com/visualizing-all-of-earths-satellites/\n",
    "</center>\n",
    "\n",
    "<br/>\n",
    "\n",
    "The information is required to be organized in such a way that each sub-dictionary mentioned below is an element of a biger dictionary called `dict_of_satellites`. The name of each sub-dictionary is the key, and its value is the dictionary itself.\n",
    "\n",
    "**The preparation of the sub-dictionaries goes as follows:**\n",
    "\n",
    "**a)** Create a list of tuples where the first element of the tuple is the name of the satellite owner/operator, the second element is the number of satellites it operates, and the third the corresopnging country of operator/owner; e.g.\n",
    "\n",
    "\n",
    "| Operator | Number | Country | |\n",
    "| :-- | :-: | :-: | :-- |\n",
    "| SpaceX | 358 | USA | $\\quad$ This 3 elements belong to the 1st tuple of the list |\n",
    "| Planet Labs, Inc. | 246 | USA | $\\quad$  This 3 elements belong to the 2nd tuple of the list |\n",
    "| Spire Global Inc. | 89 | USA | $\\quad$  3rd tuple |\n",
    "| Iridium Communications, Inc. | 78 | USA | $\\quad$  4th tuple |\n",
    "| OneWeb Satellites | 74 | United Kingdom | $\\quad$  etc. |\n",
    "| SES S.A. | 51 | Luxembourg | $\\quad$  ... |\n",
    "| Intelsat S.A. | 51 | USA | $\\quad$  ... |\n",
    "| ORBCOMM Inc. | 35 | USA | $\\quad$  ... |\n",
    "| DoD/US Air Force | 33 | USA | $\\quad$  ... |\n",
    "| EUTELSAT Americas | 33 | Multinational | $\\quad$  ... |\n",
    "| ... | ... | ... | $\\quad$  ... |\n",
    "| Chang Guang Satellite Technology Co. Ltd.\t| 15 | China |$\\quad$  This 3 elements belong to the last tuple of the list |\n",
    "\n",
    "<br/>\n",
    "\n",
    "Each entry has to be a tuple of a list named `list_of_satellites`. Store the first 15 entries of the mentioned table.\n",
    "\n",
    "You will need to operate on the data entered, so consider the best way to store numbers and names.\n",
    "\n",
    "\n",
    "**b)** Next, write an algorithm that receives the created list of tuples, and returns a dictionary where the keys are the first elements of the tuples (company names) and the values are the second (number of satellites). This will be the `dict_of_companies` dictionary.\n",
    "\n",
    "\n",
    "**c)** \n",
    "The second dictionary (or sub-dictionary) to be created will be called `dict_of_countries`. The corresponding key will be the country of the  owner of the satellites and the value, the total number of satellites belonging to the corresponding country (i.e. the sum of satellites of all the companies of each country).\n",
    "\n",
    "This is: `dict_of_countries = {'USA':358+246+89+...(=922), 'United Kingdom':74+... (=94), 'Luxembourg': 51,`\n",
    "\n",
    "Optimize the addition of the number of satellites per country with control flow operators. \n",
    "\n",
    "\n",
    "**d)** The third and last dictionary is the most difficult. This dictionary will store the country (as key) and all companies belonging to that country (as values). The values must have the following structure: if the country has only one company, this value must be a string. If there is more than one company operating in that country, then the value for that country (as key) will be a list of all corresponding countries. To be explicit and to leave no doubt, the first entries in this dictionary should be:\n",
    "\n",
    "`dict_of_countries_companies = {'USA': ['SpaceX', 'Planet Labs, Inc.', ...], 'United Kingdom': ['OneWeb Satellites',...], 'Luxembourg': 'SES S.A.', ...}`"
   ]
  },
  {
   "cell_type": "code",
   "execution_count": 48,
   "id": "3db7798b",
   "metadata": {},
   "outputs": [],
   "source": [
    "# Type the code here:\n",
    "list_of_satellites = [('SpaceX',358,'USA'), ('Planet Labs, Inc.',246,'USA'), \n",
    "                      ('Spire Global Inc.',89, 'USA'), ('Iridium Communications, Inc.',78,'USA'), \n",
    "                      ('OneWeb Satellites',74,'United Kingdom'), ('SES S.A.',51,'Luxembourg'),\n",
    "                      ('Intelsat S.A.',51,'USA'), ('ORBCOMM Inc.',35,'USA'),\n",
    "                      ('DoD/US Air Force',33,'USA'), ('EUTELSAT Americas',33,'Multinational'),\n",
    "                      ('Ministry of Defense',33,'Egypt'), ('Globalstar',32,'USA'), \n",
    "                      ('European Space Agency (ESA)',26,'ESA'), ('O3b Networks Ltd.',20,'United Kingdom'), \n",
    "                      ('Chang Guang Satellite Technology Co. Ltd.',15,'China')]"
   ]
  },
  {
   "cell_type": "code",
   "execution_count": 49,
   "id": "01ce8857",
   "metadata": {},
   "outputs": [
    {
     "data": {
      "text/plain": [
       "[('SpaceX', 358, 'USA'),\n",
       " ('Planet Labs, Inc.', 246, 'USA'),\n",
       " ('Spire Global Inc.', 89, 'USA'),\n",
       " ('Iridium Communications, Inc.', 78, 'USA'),\n",
       " ('OneWeb Satellites', 74, 'United Kingdom'),\n",
       " ('SES S.A.', 51, 'Luxembourg'),\n",
       " ('Intelsat S.A.', 51, 'USA'),\n",
       " ('ORBCOMM Inc.', 35, 'USA'),\n",
       " ('DoD/US Air Force', 33, 'USA'),\n",
       " ('EUTELSAT Americas', 33, 'Multinational'),\n",
       " ('Ministry of Defense', 33, 'Egypt'),\n",
       " ('Globalstar', 32, 'USA'),\n",
       " ('European Space Agency (ESA)', 26, 'ESA'),\n",
       " ('O3b Networks Ltd.', 20, 'United Kingdom'),\n",
       " ('Chang Guang Satellite Technology Co. Ltd.', 15, 'China')]"
      ]
     },
     "execution_count": 49,
     "metadata": {},
     "output_type": "execute_result"
    }
   ],
   "source": [
    "list_of_satellites"
   ]
  },
  {
   "cell_type": "code",
   "execution_count": 50,
   "id": "0898ae13",
   "metadata": {},
   "outputs": [
    {
     "data": {
      "text/plain": [
       "15"
      ]
     },
     "execution_count": 50,
     "metadata": {},
     "output_type": "execute_result"
    }
   ],
   "source": [
    "len(list_of_satellites)"
   ]
  },
  {
   "cell_type": "code",
   "execution_count": 51,
   "id": "9e3418ae",
   "metadata": {},
   "outputs": [],
   "source": [
    "dict_of_companies = {}\n",
    "for (i,x,z) in list_of_satellites:\n",
    "    dict_of_companies[i] = x"
   ]
  },
  {
   "cell_type": "code",
   "execution_count": 52,
   "id": "370c0926",
   "metadata": {},
   "outputs": [
    {
     "data": {
      "text/plain": [
       "{'SpaceX': 358,\n",
       " 'Planet Labs, Inc.': 246,\n",
       " 'Spire Global Inc.': 89,\n",
       " 'Iridium Communications, Inc.': 78,\n",
       " 'OneWeb Satellites': 74,\n",
       " 'SES S.A.': 51,\n",
       " 'Intelsat S.A.': 51,\n",
       " 'ORBCOMM Inc.': 35,\n",
       " 'DoD/US Air Force': 33,\n",
       " 'EUTELSAT Americas': 33,\n",
       " 'Ministry of Defense': 33,\n",
       " 'Globalstar': 32,\n",
       " 'European Space Agency (ESA)': 26,\n",
       " 'O3b Networks Ltd.': 20,\n",
       " 'Chang Guang Satellite Technology Co. Ltd.': 15}"
      ]
     },
     "execution_count": 52,
     "metadata": {},
     "output_type": "execute_result"
    }
   ],
   "source": [
    "dict_of_companies"
   ]
  },
  {
   "cell_type": "code",
   "execution_count": 55,
   "id": "edfd87bc",
   "metadata": {},
   "outputs": [
    {
     "data": {
      "text/plain": [
       "{'USA': 922,\n",
       " 'United Kingdom': 94,\n",
       " 'Luxembourg': 51,\n",
       " 'Multinational': 33,\n",
       " 'Egypt': 33,\n",
       " 'ESA': 26,\n",
       " 'China': 15}"
      ]
     },
     "execution_count": 55,
     "metadata": {},
     "output_type": "execute_result"
    }
   ],
   "source": [
    "dict_of_countries = dict()\n",
    "\n",
    "for (i,x,z) in list_of_satellites:\n",
    "    if z in dict_of_countries:\n",
    "        x = x + dict_of_countries.get(z)\n",
    "    dict_of_countries[z] = x\n",
    "\n",
    "dict_of_countries"
   ]
  },
  {
   "cell_type": "code",
   "execution_count": 57,
   "id": "b8f49838",
   "metadata": {},
   "outputs": [],
   "source": [
    "dict_of_countries_companies = dict()\n",
    "\n",
    "for (i,x,z) in list_of_satellites:\n",
    "    if (z in dict_of_countries_companies) and (type(dict_of_countries_companies.get(z))==str):\n",
    "        i = [dict_of_countries_companies.get(z), i]\n",
    "    \n",
    "    elif (z in dict_of_countries_companies) and (type(dict_of_countries_companies.get(z))==list):\n",
    "        dict_of_countries_companies.get(z).append(i)\n",
    "        i = dict_of_countries_companies.get(z)\n",
    "\n",
    "    dict_of_countries_companies[z] = i"
   ]
  },
  {
   "cell_type": "code",
   "execution_count": 58,
   "id": "8e40a7fb",
   "metadata": {},
   "outputs": [
    {
     "data": {
      "text/plain": [
       "{'USA': ['SpaceX',\n",
       "  'Planet Labs, Inc.',\n",
       "  'Spire Global Inc.',\n",
       "  'Iridium Communications, Inc.',\n",
       "  'Intelsat S.A.',\n",
       "  'ORBCOMM Inc.',\n",
       "  'DoD/US Air Force',\n",
       "  'Globalstar'],\n",
       " 'United Kingdom': ['OneWeb Satellites', 'O3b Networks Ltd.'],\n",
       " 'Luxembourg': 'SES S.A.',\n",
       " 'Multinational': 'EUTELSAT Americas',\n",
       " 'Egypt': 'Ministry of Defense',\n",
       " 'ESA': 'European Space Agency (ESA)',\n",
       " 'China': 'Chang Guang Satellite Technology Co. Ltd.'}"
      ]
     },
     "execution_count": 58,
     "metadata": {},
     "output_type": "execute_result"
    }
   ],
   "source": [
    "dict_of_countries_companies"
   ]
  }
 ],
 "metadata": {
  "kernelspec": {
   "display_name": "Python 3 (ipykernel)",
   "language": "python",
   "name": "python3"
  },
  "language_info": {
   "codemirror_mode": {
    "name": "ipython",
    "version": 3
   },
   "file_extension": ".py",
   "mimetype": "text/x-python",
   "name": "python",
   "nbconvert_exporter": "python",
   "pygments_lexer": "ipython3",
   "version": "3.9.12"
  },
  "toc": {
   "base_numbering": 1,
   "nav_menu": {},
   "number_sections": true,
   "sideBar": true,
   "skip_h1_title": true,
   "title_cell": "Table of Contents",
   "title_sidebar": "Contents",
   "toc_cell": false,
   "toc_position": {
    "height": "calc(100% - 180px)",
    "left": "10px",
    "top": "150px",
    "width": "224.844px"
   },
   "toc_section_display": true,
   "toc_window_display": true
  }
 },
 "nbformat": 4,
 "nbformat_minor": 5
}
