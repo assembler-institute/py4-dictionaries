{
 "cells": [
  {
   "cell_type": "markdown",
   "id": "5e8cd5c7",
   "metadata": {},
   "source": [
    "# Webinar: Python Dictionaries (solutions)\n",
    "\n",
    "by [Luciano Gabbanelli](https://www.linkedin.com/in/luciano-gabbanelli-ph-d-75302218)"
   ]
  },
  {
   "cell_type": "markdown",
   "id": "912d31e4",
   "metadata": {},
   "source": [
    "<img width=80 src=\"https://media.giphy.com/media/KAq5w47R9rmTuvWOWa/giphy.gif\">\n",
    "\n",
    "<img width=150 src=\"Images/Assembler.png\">\n",
    "\n",
    "***"
   ]
  },
  {
   "cell_type": "markdown",
   "id": "e83e6297",
   "metadata": {},
   "source": [
    "## List are not always the best option\n",
    "\n",
    "Imagine that you want to store information about a person. If you use a list, it would have this structure:"
   ]
  },
  {
   "cell_type": "code",
   "execution_count": null,
   "id": "3bdf3b81",
   "metadata": {},
   "outputs": [],
   "source": [
    "Lucho = [38, 'Luciano', 'Gabbanelli', 'Buenos Aires', 'physicist', 1.69, False, ['Eze', 'Dami', 'Nadia']]"
   ]
  },
  {
   "cell_type": "markdown",
   "id": "0b87f6ec",
   "metadata": {},
   "source": [
    "- Print the list"
   ]
  },
  {
   "cell_type": "code",
   "execution_count": 1,
   "id": "baf190a7",
   "metadata": {},
   "outputs": [
    {
     "data": {
      "text/plain": [
       "[38,\n",
       " 'Luciano',\n",
       " 'Gabbanelli',\n",
       " 'Buenos Aires',\n",
       " 'physicist',\n",
       " 1.69,\n",
       " False,\n",
       " ['Eze', 'Dami', 'Nadia']]"
      ]
     },
     "execution_count": 1,
     "metadata": {},
     "output_type": "execute_result"
    }
   ],
   "source": [
    "# Type the code here:\n",
    "Lucho"
   ]
  },
  {
   "cell_type": "markdown",
   "id": "f04a77ef",
   "metadata": {},
   "source": [
    "Clearly, a list is not the better option for this type of data. It is difficult to manipulate, idexes change if I change the elements (remember `.append()`, `.insert()` or `extend()` methods)"
   ]
  },
  {
   "cell_type": "markdown",
   "id": "40e4858a",
   "metadata": {},
   "source": [
    "## Dictionaries\n",
    "\n",
    "Dictionaries store data values in key(properties):value pairs.\n",
    "\n",
    "A dictionary is a collection which is ordered<a name=\"cite_ref-1\"></a>[<sup>[1]</sup>](#cite_note-1), changeable<a name=\"cite_ref-2\"></a>[<sup>[2]</sup>](#cite_note-2) and do not allow duplicates<a name=\"cite_ref-3\"></a>[<sup>[3]</sup>](#cite_note-3).\n",
    "\n",
    "Dictionaries are written with curly brackets, `{...}`.\n",
    "\n",
    "Values can store any type of data: strings, floats, lists, tuples, etc., and even dictionaries. The keys are also not required to be strings only.\n",
    "\n",
    "\n",
    "**Dictionaries makes thigs easier :)**\n",
    "\n",
    "*Bot not always! When choosing a collection type, it is useful to understand the properties of that type. Choosing the right type for a particular data set could mean an increase in efficiency or security.*\n",
    "\n",
    "<br>\n",
    "<br>\n",
    "\n",
    "<a name=\"cite_note-1\"></a> [[1]](#cite_ref-1) Only from version 3.7 onwards, dictionaries' items have a defined order, and that order will not change.\n",
    "\n",
    "<a name=\"cite_note-2\"></a> [[2]](#cite_ref-2) Ee can change, add or remove items after the dictionary has been created.\n",
    "\n",
    "<a name=\"cite_note-3\"></a> [[3]](#cite_ref-3) Dictionaries cannot have two items with the same key.\n",
    "\n"
   ]
  },
  {
   "cell_type": "markdown",
   "id": "f8a733df",
   "metadata": {},
   "source": [
    "- Create a dictionary for the previous data (we can even define nested dictionaries :D):"
   ]
  },
  {
   "cell_type": "code",
   "execution_count": 4,
   "id": "3906afc6",
   "metadata": {},
   "outputs": [],
   "source": [
    "# Type the code here:\n",
    "people = {\n",
    "    'name': 'Luciano',\n",
    "    'surname': 'Gabbanelli',\n",
    "    'age': 38,\n",
    "    'city_of_birth': 'Buenos Aires',\n",
    "    'education': 'physicist',\n",
    "    'height': 1.69,\n",
    "    'has_children': False,\n",
    "    'friends':['Eze', 'Dami', 'Nadia'],\n",
    "    'occupation':{\n",
    "        'name': 'Tech lead',\n",
    "        'hours_per_week': 40,\n",
    "        'days_of_vacations': 30\n",
    "    }\n",
    "}"
   ]
  },
  {
   "cell_type": "code",
   "execution_count": 3,
   "id": "5f2567d2",
   "metadata": {
    "scrolled": true
   },
   "outputs": [
    {
     "data": {
      "text/plain": [
       "{'name': 'Luciano',\n",
       " 'surname': 'Gabbanelli',\n",
       " 'age': 38,\n",
       " 'city_of_birth': 'Buenos Aires',\n",
       " 'education': 'physicist',\n",
       " 'height': 1.69,\n",
       " 'has_children': False,\n",
       " 'friends': ['Eze', 'Dami', 'Nadia'],\n",
       " 'occupation': {'name': 'Tech lead',\n",
       "  'hours_per_week': 40,\n",
       "  'days_of_vacations': 30}}"
      ]
     },
     "execution_count": 3,
     "metadata": {},
     "output_type": "execute_result"
    }
   ],
   "source": [
    "people"
   ]
  },
  {
   "cell_type": "code",
   "execution_count": 4,
   "id": "28bad2bb",
   "metadata": {},
   "outputs": [
    {
     "data": {
      "text/plain": [
       "dict"
      ]
     },
     "execution_count": 4,
     "metadata": {},
     "output_type": "execute_result"
    }
   ],
   "source": [
    "type(people)"
   ]
  },
  {
   "cell_type": "markdown",
   "id": "55bc510f",
   "metadata": {},
   "source": [
    "### Dictionary length\n",
    "\n",
    "`len()` returns how many items a dictionary has."
   ]
  },
  {
   "cell_type": "code",
   "execution_count": 5,
   "id": "50dad7ff",
   "metadata": {},
   "outputs": [
    {
     "data": {
      "text/plain": [
       "9"
      ]
     },
     "execution_count": 5,
     "metadata": {},
     "output_type": "execute_result"
    }
   ],
   "source": [
    "# Type some code here:\n",
    "len(people)"
   ]
  },
  {
   "cell_type": "markdown",
   "id": "9531c46b",
   "metadata": {},
   "source": [
    "### Accessing items\n",
    "\n",
    "- Access an element of the previous dictionary:"
   ]
  },
  {
   "cell_type": "code",
   "execution_count": 6,
   "id": "2d0fbd3a",
   "metadata": {},
   "outputs": [
    {
     "ename": "KeyError",
     "evalue": "1",
     "output_type": "error",
     "traceback": [
      "\u001b[1;31m---------------------------------------------------------------------------\u001b[0m",
      "\u001b[1;31mKeyError\u001b[0m                                  Traceback (most recent call last)",
      "Input \u001b[1;32mIn [6]\u001b[0m, in \u001b[0;36m<cell line: 2>\u001b[1;34m()\u001b[0m\n\u001b[0;32m      1\u001b[0m \u001b[38;5;66;03m# Type some code here:\u001b[39;00m\n\u001b[1;32m----> 2\u001b[0m \u001b[38;5;28mtype\u001b[39m(\u001b[43mpeople\u001b[49m\u001b[43m[\u001b[49m\u001b[38;5;241;43m1\u001b[39;49m\u001b[43m]\u001b[49m)\n",
      "\u001b[1;31mKeyError\u001b[0m: 1"
     ]
    }
   ],
   "source": [
    "# Type some code here:\n",
    "type(people[1])"
   ]
  },
  {
   "cell_type": "markdown",
   "id": "a85a9299",
   "metadata": {},
   "source": [
    "To access an item in a dictionary, you must refer to its key name, enclosed in square brackets or by meand of the `get()` method:"
   ]
  },
  {
   "cell_type": "code",
   "execution_count": 7,
   "id": "eb447600",
   "metadata": {},
   "outputs": [
    {
     "data": {
      "text/plain": [
       "'Luciano'"
      ]
     },
     "execution_count": 7,
     "metadata": {},
     "output_type": "execute_result"
    }
   ],
   "source": [
    "# Type some code here:\n",
    "people['name']"
   ]
  },
  {
   "cell_type": "code",
   "execution_count": 8,
   "id": "68d40892",
   "metadata": {},
   "outputs": [
    {
     "data": {
      "text/plain": [
       "'Gabbanelli'"
      ]
     },
     "execution_count": 8,
     "metadata": {},
     "output_type": "execute_result"
    }
   ],
   "source": [
    "people.get('surname')"
   ]
  },
  {
   "cell_type": "code",
   "execution_count": 9,
   "id": "2696c2fb",
   "metadata": {},
   "outputs": [
    {
     "data": {
      "text/plain": [
       "bool"
      ]
     },
     "execution_count": 9,
     "metadata": {},
     "output_type": "execute_result"
    }
   ],
   "source": [
    "type(people['has_children'])"
   ]
  },
  {
   "cell_type": "code",
   "execution_count": 5,
   "id": "6e6d50a8",
   "metadata": {},
   "outputs": [
    {
     "data": {
      "text/plain": [
       "list"
      ]
     },
     "execution_count": 5,
     "metadata": {},
     "output_type": "execute_result"
    }
   ],
   "source": [
    "type(people.get('friends'))"
   ]
  },
  {
   "cell_type": "code",
   "execution_count": 11,
   "id": "297e49bc",
   "metadata": {},
   "outputs": [
    {
     "data": {
      "text/plain": [
       "dict"
      ]
     },
     "execution_count": 11,
     "metadata": {},
     "output_type": "execute_result"
    }
   ],
   "source": [
    "type(people['occupation'])"
   ]
  },
  {
   "cell_type": "markdown",
   "id": "a3fbe7e2",
   "metadata": {},
   "source": [
    "### Obtain all keys\n",
    "\n",
    "The `keys()` method will return a list of all the keys in a dictionary (you can store the list in a variable if you wish).\n",
    "\n",
    "The list of the keys gives a view of the features of a dictionary; any changes done to the dictionary will be reflected in the keys list."
   ]
  },
  {
   "cell_type": "code",
   "execution_count": 12,
   "id": "5c61c12a",
   "metadata": {},
   "outputs": [],
   "source": [
    "# Type some code here:\n",
    "people_keys = people.keys()"
   ]
  },
  {
   "cell_type": "code",
   "execution_count": 13,
   "id": "e891abab",
   "metadata": {},
   "outputs": [
    {
     "data": {
      "text/plain": [
       "True"
      ]
     },
     "execution_count": 13,
     "metadata": {},
     "output_type": "execute_result"
    }
   ],
   "source": [
    "len(people_keys) == len(people)"
   ]
  },
  {
   "cell_type": "markdown",
   "id": "7e0ca1f3",
   "metadata": {},
   "source": [
    "- Redefine the `'name'` key to include both first and last name, and then check how the keys have been modified:"
   ]
  },
  {
   "cell_type": "code",
   "execution_count": 14,
   "id": "3dbc38ff",
   "metadata": {},
   "outputs": [],
   "source": [
    "# Type some code here:\n",
    "people['name'] = people['name'] + ' ' + people['surname'] "
   ]
  },
  {
   "cell_type": "code",
   "execution_count": 10,
   "id": "0dfdc4f6",
   "metadata": {},
   "outputs": [],
   "source": [
    "del people['surname']"
   ]
  },
  {
   "cell_type": "code",
   "execution_count": 16,
   "id": "ec9d035b",
   "metadata": {},
   "outputs": [
    {
     "data": {
      "text/plain": [
       "dict_keys(['name', 'age', 'city_of_birth', 'education', 'height', 'has_children', 'friends', 'occupation'])"
      ]
     },
     "execution_count": 16,
     "metadata": {},
     "output_type": "execute_result"
    }
   ],
   "source": [
    "people_keys"
   ]
  },
  {
   "cell_type": "markdown",
   "id": "b4786a23",
   "metadata": {},
   "source": [
    "### Obtain all values\n",
    "\n",
    "The `values()` method provides a list with all the values in the dictionary.\n",
    "\n",
    "If values change, they will be reflected in the values list."
   ]
  },
  {
   "cell_type": "code",
   "execution_count": 17,
   "id": "5f489a4a",
   "metadata": {},
   "outputs": [
    {
     "data": {
      "text/plain": [
       "dict_values(['Luciano Gabbanelli', 38, 'Buenos Aires', 'physicist', 1.69, False, ['Eze', 'Dami', 'Nadia'], {'name': 'Tech lead', 'hours_per_week': 40, 'days_of_vacations': 30}])"
      ]
     },
     "execution_count": 17,
     "metadata": {},
     "output_type": "execute_result"
    }
   ],
   "source": [
    "# Type some code here:\n",
    "people.values()"
   ]
  },
  {
   "cell_type": "markdown",
   "id": "2a0d10d6",
   "metadata": {},
   "source": [
    "### Obtain all items\n",
    "\n",
    "The `item()` method gives keys and values as 2-dimensional tuples in a list. This method is useful to iterate through pairs.\n",
    "\n",
    "Changes in the dictionary will apply to items as well."
   ]
  },
  {
   "cell_type": "code",
   "execution_count": 18,
   "id": "e9fb7853",
   "metadata": {},
   "outputs": [
    {
     "data": {
      "text/plain": [
       "dict_items([('name', 'Luciano Gabbanelli'), ('age', 38), ('city_of_birth', 'Buenos Aires'), ('education', 'physicist'), ('height', 1.69), ('has_children', False), ('friends', ['Eze', 'Dami', 'Nadia']), ('occupation', {'name': 'Tech lead', 'hours_per_week': 40, 'days_of_vacations': 30})])"
      ]
     },
     "execution_count": 18,
     "metadata": {},
     "output_type": "execute_result"
    }
   ],
   "source": [
    "# Type some code here:\n",
    "people.items()"
   ]
  },
  {
   "cell_type": "markdown",
   "id": "2e47fa34",
   "metadata": {},
   "source": [
    "### Check if key exists\n",
    "\n",
    "To determine if a key is present in a dictionary, use the membership operator `in`."
   ]
  },
  {
   "cell_type": "code",
   "execution_count": 19,
   "id": "58462939",
   "metadata": {},
   "outputs": [
    {
     "name": "stdout",
     "output_type": "stream",
     "text": [
      "Luciano Gabbanelli was born in Buenos Aires\n"
     ]
    }
   ],
   "source": [
    "# Type some code here:\n",
    "if 'city_of_birth' in people:\n",
    "    print(f\"{people['name']} was born in {people['city_of_birth']}\")"
   ]
  },
  {
   "cell_type": "markdown",
   "id": "66c5977a",
   "metadata": {},
   "source": [
    "### Change values\n",
    "\n",
    "Besides by referring to a key name \n",
    "\n",
    "> Sintax: `dictionary_name['key_name'] = new_value'`,\n",
    "\n",
    "<br>\n",
    "\n",
    "one can use the `update()` method to add or change a pair kay:value.\n",
    "\n",
    "> Sintax: `dictionary_name.update({'key_name':new_value})`"
   ]
  },
  {
   "cell_type": "code",
   "execution_count": 20,
   "id": "5dd7fe52",
   "metadata": {},
   "outputs": [],
   "source": [
    "# Type some code here:\n",
    "people.update({'country_of_birth': 'Argentina'})"
   ]
  },
  {
   "cell_type": "code",
   "execution_count": 21,
   "id": "e4f6e539",
   "metadata": {},
   "outputs": [
    {
     "data": {
      "text/plain": [
       "{'name': 'Luciano Gabbanelli',\n",
       " 'age': 38,\n",
       " 'city_of_birth': 'Buenos Aires',\n",
       " 'education': 'physicist',\n",
       " 'height': 1.69,\n",
       " 'has_children': False,\n",
       " 'friends': ['Eze', 'Dami', 'Nadia'],\n",
       " 'occupation': {'name': 'Tech lead',\n",
       "  'hours_per_week': 40,\n",
       "  'days_of_vacations': 30},\n",
       " 'country_of_birth': 'Argentina'}"
      ]
     },
     "execution_count": 21,
     "metadata": {},
     "output_type": "execute_result"
    }
   ],
   "source": [
    "people"
   ]
  },
  {
   "cell_type": "markdown",
   "id": "51d1428c",
   "metadata": {},
   "source": [
    "- Add a item inside a dictionary which is inside another dictionary"
   ]
  },
  {
   "cell_type": "code",
   "execution_count": 8,
   "id": "f7fba696",
   "metadata": {},
   "outputs": [],
   "source": [
    "# Type the code here:\n",
    "people['occupation']['salary'] = 1_000_000"
   ]
  },
  {
   "cell_type": "code",
   "execution_count": 23,
   "id": "714dc99e",
   "metadata": {},
   "outputs": [
    {
     "data": {
      "text/plain": [
       "{'name': 'Luciano Gabbanelli',\n",
       " 'age': 38,\n",
       " 'city_of_birth': 'Buenos Aires',\n",
       " 'education': 'physicist',\n",
       " 'height': 1.69,\n",
       " 'has_children': False,\n",
       " 'friends': ['Eze', 'Dami', 'Nadia'],\n",
       " 'occupation': {'name': 'Tech lead',\n",
       "  'hours_per_week': 40,\n",
       "  'days_of_vacations': 30,\n",
       "  'salary': 1000000},\n",
       " 'country_of_birth': 'Argentina'}"
      ]
     },
     "execution_count": 23,
     "metadata": {},
     "output_type": "execute_result"
    }
   ],
   "source": [
    "people"
   ]
  },
  {
   "cell_type": "markdown",
   "id": "72834c1c",
   "metadata": {},
   "source": [
    "### Remove items\n",
    "\n",
    "The `pop()` method removes a item with the specified key name.\n",
    "\n",
    "> Sintax: `dictionary_name.pop('key_name')`\n",
    "\n",
    "<br>\n",
    "    \n",
    "The `popitem()` method removes the last inserted item.\n",
    "\n",
    "> Sintax: `dictionary_name.popitem()`\n",
    "\n",
    "<br>\n",
    "\n",
    "The `del` keyword removes the item with the specified key name.\n",
    "\n",
    "> Sintax: `del dictionary_name['key_name']`\n",
    "\n",
    "This method can also delete the dictionary completely.\n",
    "\n",
    "> Sintax: `del dictionary_name`\n",
    "\n",
    "<br>\n",
    "\n",
    "The `clear()` method empties the dictionary.\n",
    "\n",
    "> Sintax: `dictionary_name.clear()`"
   ]
  },
  {
   "cell_type": "code",
   "execution_count": 24,
   "id": "7584927b",
   "metadata": {},
   "outputs": [
    {
     "data": {
      "text/plain": [
       "('country_of_birth', 'Argentina')"
      ]
     },
     "execution_count": 24,
     "metadata": {},
     "output_type": "execute_result"
    }
   ],
   "source": [
    "# Type the code here:\n",
    "people.popitem()"
   ]
  },
  {
   "cell_type": "code",
   "execution_count": 25,
   "id": "faa741b5",
   "metadata": {},
   "outputs": [
    {
     "data": {
      "text/plain": [
       "{'name': 'Luciano Gabbanelli',\n",
       " 'age': 38,\n",
       " 'city_of_birth': 'Buenos Aires',\n",
       " 'education': 'physicist',\n",
       " 'height': 1.69,\n",
       " 'has_children': False,\n",
       " 'friends': ['Eze', 'Dami', 'Nadia'],\n",
       " 'occupation': {'name': 'Tech lead',\n",
       "  'hours_per_week': 40,\n",
       "  'days_of_vacations': 30,\n",
       "  'salary': 1000000}}"
      ]
     },
     "execution_count": 25,
     "metadata": {},
     "output_type": "execute_result"
    }
   ],
   "source": [
    "people"
   ]
  },
  {
   "cell_type": "markdown",
   "id": "c7538677",
   "metadata": {},
   "source": [
    "### Sort a dictionary"
   ]
  },
  {
   "cell_type": "markdown",
   "id": "87071785",
   "metadata": {},
   "source": [
    "Some functions act on any iterable, as we have already seen for lists. Recall the difference between the `reverse()` method and the `reversed()` function.\n",
    "\n",
    "If you want to sort a dictionary, you can use the `sorted()` function. However, the `sorted()` function returns a sorted list of the specified iterable object. \n",
    "\n",
    "> Syntax: `sorted(iterable, key=key, reverse=True|False)`\n",
    ">\n",
    "> `iterable`: the sequence to sort, a list, a dictionary, a tuple, etc.\n",
    ">\n",
    "> `key`: a function to execute to decide the order. Default is None. Optional.\n",
    ">\n",
    "> `reverse`: a boolean. False will sort ascending, True will sort descending. Default is False. Optional.\n",
    "\n",
    "Strings are sorted alphabetically, and numbers are sorted numerically.\n",
    "\n",
    "**Note:** You cannot sort a list that contains BOTH string values AND numeric values. \n",
    "\n",
    "**Task for you:** Do you see the difference between the `sort()` method seen in the previous notebook and the `sorted()` function? If the answer is no, check it out.\n",
    "\n",
    "**Task for you:** How does the `sorted()` function work against strings with uppercase and lowercase?\n",
    "\n",
    "- Sort the `people` dictionary:"
   ]
  },
  {
   "cell_type": "code",
   "execution_count": 28,
   "id": "dcde0e01",
   "metadata": {},
   "outputs": [
    {
     "data": {
      "text/plain": [
       "{'name': 'Luciano Gabbanelli',\n",
       " 'age': 38,\n",
       " 'city_of_birth': 'Buenos Aires',\n",
       " 'education': 'physicist',\n",
       " 'height': 1.69,\n",
       " 'has_children': False,\n",
       " 'friends': ['Eze', 'Dami', 'Nadia'],\n",
       " 'occupation': {'name': 'Tech lead',\n",
       "  'hours_per_week': 40,\n",
       "  'days_of_vacations': 30,\n",
       "  'salary': 1000000}}"
      ]
     },
     "execution_count": 28,
     "metadata": {},
     "output_type": "execute_result"
    }
   ],
   "source": [
    "# Type the code here:\n",
    "people"
   ]
  },
  {
   "cell_type": "code",
   "execution_count": 7,
   "id": "89279556",
   "metadata": {},
   "outputs": [
    {
     "data": {
      "text/plain": [
       "dict_items([('name', 'Luciano'), ('surname', 'Gabbanelli'), ('age', 38), ('city_of_birth', 'Buenos Aires'), ('education', 'physicist'), ('height', 1.69), ('has_children', False), ('friends', ['Eze', 'Dami', 'Nadia']), ('occupation', {'name': 'Tech lead', 'hours_per_week': 40, 'days_of_vacations': 30})])"
      ]
     },
     "execution_count": 7,
     "metadata": {},
     "output_type": "execute_result"
    }
   ],
   "source": [
    "people.items()"
   ]
  },
  {
   "cell_type": "code",
   "execution_count": 11,
   "id": "5be40c79",
   "metadata": {},
   "outputs": [
    {
     "data": {
      "text/plain": [
       "[('age', 38),\n",
       " ('city_of_birth', 'Buenos Aires'),\n",
       " ('education', 'physicist'),\n",
       " ('friends', ['Eze', 'Dami', 'Nadia']),\n",
       " ('has_children', False),\n",
       " ('height', 1.69),\n",
       " ('name', 'Luciano'),\n",
       " ('occupation',\n",
       "  {'name': 'Tech lead',\n",
       "   'hours_per_week': 40,\n",
       "   'days_of_vacations': 30,\n",
       "   'salary': 1000000})]"
      ]
     },
     "execution_count": 11,
     "metadata": {},
     "output_type": "execute_result"
    }
   ],
   "source": [
    "sorted(people.items())"
   ]
  },
  {
   "cell_type": "code",
   "execution_count": 31,
   "id": "d4c7900e",
   "metadata": {},
   "outputs": [
    {
     "data": {
      "text/plain": [
       "{'name': 'Luciano Gabbanelli',\n",
       " 'age': 38,\n",
       " 'city_of_birth': 'Buenos Aires',\n",
       " 'education': 'physicist',\n",
       " 'height': 1.69,\n",
       " 'has_children': False,\n",
       " 'friends': ['Eze', 'Dami', 'Nadia'],\n",
       " 'occupation': {'name': 'Tech lead',\n",
       "  'hours_per_week': 40,\n",
       "  'days_of_vacations': 30,\n",
       "  'salary': 1000000}}"
      ]
     },
     "execution_count": 31,
     "metadata": {},
     "output_type": "execute_result"
    }
   ],
   "source": [
    "people"
   ]
  },
  {
   "cell_type": "code",
   "execution_count": 12,
   "id": "cef5803a",
   "metadata": {},
   "outputs": [
    {
     "data": {
      "text/plain": [
       "[('age', 38),\n",
       " ('city_of_birth', 'Buenos Aires'),\n",
       " ('education', 'physicist'),\n",
       " ('friends', ['Eze', 'Dami', 'Nadia']),\n",
       " ('has_children', False),\n",
       " ('height', 1.69),\n",
       " ('name', 'Luciano'),\n",
       " ('occupation',\n",
       "  {'name': 'Tech lead',\n",
       "   'hours_per_week': 40,\n",
       "   'days_of_vacations': 30,\n",
       "   'salary': 1000000})]"
      ]
     },
     "execution_count": 12,
     "metadata": {},
     "output_type": "execute_result"
    }
   ],
   "source": [
    "# Converting back to a Dictionary:\n",
    "sorted_people = sorted(people.items())\n",
    "sorted_people"
   ]
  },
  {
   "cell_type": "code",
   "execution_count": 13,
   "id": "e0830d95",
   "metadata": {},
   "outputs": [
    {
     "data": {
      "text/plain": [
       "list"
      ]
     },
     "execution_count": 13,
     "metadata": {},
     "output_type": "execute_result"
    }
   ],
   "source": [
    "type(sorted_people)"
   ]
  },
  {
   "cell_type": "code",
   "execution_count": 14,
   "id": "f6913067",
   "metadata": {},
   "outputs": [
    {
     "data": {
      "text/plain": [
       "{'age': 38,\n",
       " 'city_of_birth': 'Buenos Aires',\n",
       " 'education': 'physicist',\n",
       " 'friends': ['Eze', 'Dami', 'Nadia'],\n",
       " 'has_children': False,\n",
       " 'height': 1.69,\n",
       " 'name': 'Luciano',\n",
       " 'occupation': {'name': 'Tech lead',\n",
       "  'hours_per_week': 40,\n",
       "  'days_of_vacations': 30,\n",
       "  'salary': 1000000}}"
      ]
     },
     "execution_count": 14,
     "metadata": {},
     "output_type": "execute_result"
    }
   ],
   "source": [
    "dict(sorted_people)"
   ]
  },
  {
   "cell_type": "code",
   "execution_count": 15,
   "id": "c2b4926b",
   "metadata": {},
   "outputs": [
    {
     "data": {
      "text/plain": [
       "[('age', 38),\n",
       " ('city_of_birth', 'Buenos Aires'),\n",
       " ('education', 'physicist'),\n",
       " ('friends', ['Eze', 'Dami', 'Nadia']),\n",
       " ('has_children', False),\n",
       " ('height', 1.69),\n",
       " ('name', 'Luciano'),\n",
       " ('occupation',\n",
       "  {'name': 'Tech lead',\n",
       "   'hours_per_week': 40,\n",
       "   'days_of_vacations': 30,\n",
       "   'salary': 1000000})]"
      ]
     },
     "execution_count": 15,
     "metadata": {},
     "output_type": "execute_result"
    }
   ],
   "source": [
    "sorted_people"
   ]
  },
  {
   "cell_type": "code",
   "execution_count": 16,
   "id": "0ae937f0",
   "metadata": {},
   "outputs": [
    {
     "data": {
      "text/plain": [
       "{'age': 38,\n",
       " 'city_of_birth': 'Buenos Aires',\n",
       " 'education': 'physicist',\n",
       " 'friends': ['Eze', 'Dami', 'Nadia'],\n",
       " 'has_children': False,\n",
       " 'height': 1.69,\n",
       " 'name': 'Luciano',\n",
       " 'occupation': {'name': 'Tech lead',\n",
       "  'hours_per_week': 40,\n",
       "  'days_of_vacations': 30,\n",
       "  'salary': 1000000}}"
      ]
     },
     "execution_count": 16,
     "metadata": {},
     "output_type": "execute_result"
    }
   ],
   "source": [
    "sorted_people = dict(sorted_people)\n",
    "sorted_people"
   ]
  },
  {
   "cell_type": "markdown",
   "id": "41866535",
   "metadata": {},
   "source": [
    "**Task:** Sort the `people` dictionary by its values. As you have seen in the previous task, the `sorted()` function does not work for all types of objects at once. Python does not understand how to compare a number and a string. Change the value types so you can sort the `people` dictionary. If there is no other way, you can delete the entry causing problems."
   ]
  },
  {
   "cell_type": "code",
   "execution_count": 45,
   "id": "c68b4446",
   "metadata": {},
   "outputs": [
    {
     "data": {
      "text/plain": [
       "{'name': 'Luciano Gabbanelli',\n",
       " 'age': 38,\n",
       " 'city_of_birth': 'Buenos Aires',\n",
       " 'education': 'physicist',\n",
       " 'height': 1.69,\n",
       " 'has_children': False,\n",
       " 'friends': ['Eze', 'Dami', 'Nadia'],\n",
       " 'occupation': {'name': 'Tech lead',\n",
       "  'hours_per_week': 40,\n",
       "  'days_of_vacations': 30,\n",
       "  'salary': 1000000}}"
      ]
     },
     "execution_count": 45,
     "metadata": {},
     "output_type": "execute_result"
    }
   ],
   "source": [
    "# Type the code here:\n",
    "people"
   ]
  },
  {
   "cell_type": "markdown",
   "id": "1d4781f3",
   "metadata": {},
   "source": [
    "## Loop through a dictionary\n",
    "\n",
    "A `for` loop can return the keys of the dictionary."
   ]
  },
  {
   "cell_type": "code",
   "execution_count": 25,
   "id": "a8a3e99e",
   "metadata": {},
   "outputs": [
    {
     "name": "stdout",
     "output_type": "stream",
     "text": [
      "key : value\n",
      "name : Luciano Gabbanelli\n",
      "age : 38\n",
      "city_of_birth : Buenos Aires\n",
      "education : physicist\n",
      "height : 1.69\n",
      "has_children : False\n",
      "friends : ['Eze', 'Dami', 'Nadia']\n",
      "occupation : {'name': 'Tech lead', 'hours_per_week': 40, 'days_of_vacations': 30, 'salary': 1000000}\n"
     ]
    }
   ],
   "source": [
    "# Type the code here:\n",
    "print('key',':','value')\n",
    "for k in people:\n",
    "    print(k,':',people[k])"
   ]
  },
  {
   "cell_type": "markdown",
   "id": "20803622",
   "metadata": {},
   "source": [
    "**Tasks for you:** \n",
    "- create a `for` loop to iterate over values (the `values()` method is usefull).\n",
    "- create another `for` loop to iterate over the keys, but in a different way than before."
   ]
  },
  {
   "cell_type": "code",
   "execution_count": 26,
   "id": "db2f6004",
   "metadata": {},
   "outputs": [
    {
     "name": "stdout",
     "output_type": "stream",
     "text": [
      "Luciano Gabbanelli\n",
      "38\n",
      "Buenos Aires\n",
      "physicist\n",
      "1.69\n",
      "False\n",
      "['Eze', 'Dami', 'Nadia']\n",
      "{'name': 'Tech lead', 'hours_per_week': 40, 'days_of_vacations': 30, 'salary': 1000000}\n"
     ]
    }
   ],
   "source": [
    "# Type the code here:\n",
    "for v in people.values():\n",
    "    print(v)"
   ]
  },
  {
   "cell_type": "code",
   "execution_count": 27,
   "id": "f8800a07",
   "metadata": {},
   "outputs": [
    {
     "name": "stdout",
     "output_type": "stream",
     "text": [
      "name\n",
      "age\n",
      "city_of_birth\n",
      "education\n",
      "height\n",
      "has_children\n",
      "friends\n",
      "occupation\n"
     ]
    }
   ],
   "source": [
    "for k in people.keys():\n",
    "    print(k)"
   ]
  },
  {
   "cell_type": "markdown",
   "id": "56b3a797",
   "metadata": {},
   "source": [
    "- We can also loop through both keys and values, by using the `items()` method:"
   ]
  },
  {
   "cell_type": "code",
   "execution_count": 28,
   "id": "701947ab",
   "metadata": {
    "scrolled": true
   },
   "outputs": [
    {
     "name": "stdout",
     "output_type": "stream",
     "text": [
      "The key name has a value of Luciano Gabbanelli\n",
      "The key age has a value of 38\n",
      "The key city_of_birth has a value of Buenos Aires\n",
      "The key education has a value of physicist\n",
      "The key height has a value of 1.69\n",
      "The key has_children has a value of False\n",
      "The key friends has a value of ['Eze', 'Dami', 'Nadia']\n",
      "The key occupation has a value of {'name': 'Tech lead', 'hours_per_week': 40, 'days_of_vacations': 30, 'salary': 1000000}\n"
     ]
    }
   ],
   "source": [
    "# Type the code here:\n",
    "for k, v in people.items():\n",
    "    print(f\"The key {k} has a value of {v}\")"
   ]
  },
  {
   "cell_type": "markdown",
   "id": "239f1ee7",
   "metadata": {},
   "source": [
    "**Tasks for you:** \n",
    "- [Here](https://www.w3schools.com/python/python_dictionaries_copy.asp) you can find two methods to copy a dictionary. Try them!\n",
    "\n",
    "\n",
    "- And [here](https://www.w3schools.com/python/python_dictionaries_nested.asp), a discusion regarding nested dictionaries.\n",
    "\n",
    "\n",
    "- Create an example, or use the one above, to iterate over a subdictionary within a dictionary. For example, iterate over the `occupation` dictionary, which is inside the `people` dictionary. Find its keys and values.\n",
    "\n",
    "\n",
    "- In [this link](https://www.w3schools.com/python/python_dictionaries_methods.asp), you have some dictionary methods.\n",
    "\n",
    "\n",
    "Have fun!"
   ]
  },
  {
   "cell_type": "code",
   "execution_count": null,
   "id": "c73197a2",
   "metadata": {},
   "outputs": [],
   "source": []
  }
 ],
 "metadata": {
  "kernelspec": {
   "display_name": "Python 3 (ipykernel)",
   "language": "python",
   "name": "python3"
  },
  "language_info": {
   "codemirror_mode": {
    "name": "ipython",
    "version": 3
   },
   "file_extension": ".py",
   "mimetype": "text/x-python",
   "name": "python",
   "nbconvert_exporter": "python",
   "pygments_lexer": "ipython3",
   "version": "3.9.12"
  },
  "toc": {
   "base_numbering": 1,
   "nav_menu": {},
   "number_sections": true,
   "sideBar": true,
   "skip_h1_title": true,
   "title_cell": "Table of Contents",
   "title_sidebar": "Contents",
   "toc_cell": false,
   "toc_position": {
    "height": "749px",
    "left": "219px",
    "top": "218.125px",
    "width": "259px"
   },
   "toc_section_display": true,
   "toc_window_display": true
  }
 },
 "nbformat": 4,
 "nbformat_minor": 5
}
