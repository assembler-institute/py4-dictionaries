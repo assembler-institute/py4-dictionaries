{
 "cells": [
  {
   "cell_type": "markdown",
   "id": "413f4c2a",
   "metadata": {},
   "source": [
    "# Dictionaries pill"
   ]
  },
  {
   "cell_type": "markdown",
   "id": "7e3c45f4",
   "metadata": {},
   "source": [
    "<img width=80 src=\"https://media.giphy.com/media/KAq5w47R9rmTuvWOWa/giphy.gif\">\n",
    "\n",
    "<img width=150 src=\"Images/Assembler.png\">"
   ]
  },
  {
   "cell_type": "markdown",
   "id": "8e40902a",
   "metadata": {},
   "source": [
    "***"
   ]
  },
  {
   "cell_type": "markdown",
   "id": "d2bf9968",
   "metadata": {},
   "source": [
    "# Construct a dictionary with numerical keys\n",
    "\n",
    "In the following article\n",
    "\n",
    "[https://www.venrock.com/radical-new-paradigm-quantum-computing-venrocks-investment-atom-computing/](https://www.venrock.com/radical-new-paradigm-quantum-computing-venrocks-investment-atom-computing/)\n",
    "\n",
    "you can find a comparison between the power of bits (the most basic unit of information in computing)\n",
    "and qubits (the \"same\" but for quatum computers<a name=\"cite_ref-1\"></a>[<sup>[1]</sup>](#cite_note-1)).\n",
    "\n",
    "We want to create a dictionary that stores this equivalence. Follow these steps:\n",
    "\n",
    "<br>\n",
    "\n",
    "**1)** Extract from the table within this article the information in the first three rows, for bits and qubits, and store it in two lists, one for each:\n",
    "\n",
    "`list_qubits = [3, 10, 20]`\n",
    "\n",
    "and the same for qubits:\n",
    "\n",
    "`list_bits = [8, 1024, 1048576]`\n",
    "\n",
    "<br>\n",
    "\n",
    "**2)** Now that we have all the required information, let us create the dictionary, but this time from two lists that have a correspondence of 1 to 1. The resulting dictionary must have a structure with the keys with the qubits and their equivalence in bits in the value.\n",
    "\n",
    "You can store the information as you see fit, but it is convenient that if you store the '3' qubits as a string, you do the same with its equivalent in bits, and with the rest of the rows. I.e., '3' : '8' or 3 : 8, but not '3' : 8. Remember that when calling a dictionary item, you have to refer to its key exactly.\n",
    "\n",
    "**Tip:** \n",
    "There are many ways to create a dictionary from two lists. For example, you can take advantage of the `zip()` function.\n",
    "\n",
    "[Here some explanaition](https://www.programiz.com/python-programming/methods/built-in/zip) or google some more, if needed.\n",
    "\n",
    "<br>\n",
    "\n",
    "**3)** Make sure you can access the 3 entries created.\n",
    "\n",
    "<br>\n",
    "\n",
    "<a name=\"cite_note-1\"></a> [[1]](#cite_ref-1) Have you heard of quantum computers? Google it then!! **Do not navigate the web, surf it!**"
   ]
  },
  {
   "cell_type": "code",
   "execution_count": 2,
   "id": "9f890116",
   "metadata": {},
   "outputs": [],
   "source": [
    "# Type the code here:\n",
    "# Create a list for qubits:\n",
    "list_qubits = [3, 10, 20]\n",
    "\n",
    "# and a list for bits\n",
    "list_bits = [8, 1024, 1048576]\n"
   ]
  },
  {
   "cell_type": "code",
   "execution_count": 3,
   "id": "dada05e6",
   "metadata": {},
   "outputs": [
    {
     "data": {
      "text/plain": [
       "{3: 8, 10: 1024, 20: 1048576}"
      ]
     },
     "execution_count": 3,
     "metadata": {},
     "output_type": "execute_result"
    }
   ],
   "source": [
    "# Type the code here for building the equivalence_dictionry:\n",
    "\n",
    "#The zip function returns a zip object (iterator of tupples), so to generate a dictionary we have to apply the dict function\n",
    "my_dict = dict(zip(list_qubits, list_bits))\n",
    "my_dict"
   ]
  },
  {
   "cell_type": "markdown",
   "id": "64fd4972",
   "metadata": {},
   "source": [
    "**Isn't it surprising that only twenty qubits have the same capacity as a million bits?**\n",
    "\n",
    "Have you read the article? \n",
    "\n",
    "Or have you simply taken the information from it? \n",
    "\n",
    "Just a question... It is not mandatory, it will not be taken in the exam :)\n",
    "\n",
    "Want some more?! \n",
    "\n",
    "[Check this page! You are welcome](https://vincentlauzon.com/2018/03/21/quantum-computing-how-does-it-scale/)\n",
    "\n",
    "<br>\n",
    "\n",
    "**Let us go with a difficult one!**\n",
    "\n",
    "**4)** Create the missing entries between the first and second entrey with the correspondent equivalence.\n",
    "\n",
    "<br>\n",
    "\n",
    "**HELP ME PLEASE!!** \n",
    "\n",
    "There is a mathematical pattern representing this equivalence. Basically, 1 qubit can take the value of two bits, i.e.\n",
    "\n",
    "$$2^1=2\\ .$$ \n",
    "\n",
    "2 qubits can take the values of \n",
    "\n",
    "$$2^2=4 \\text{ bits.}$$  \n",
    "\n",
    "In this manner, $3$ qubits of $2^3$ bits, $4$ of $2^4$, and so on and so forth. Generalizing, $N$ qubits can take the values of \n",
    "\n",
    "$$ 2^N \\text{ bits.}$$\n",
    "\n",
    "\n",
    "**Tip:** Create an iterable ranging from 4 to 9 (inclusive –these are the desired values to fill in–) that automatically fills the dictionary. Mola, right?"
   ]
  },
  {
   "cell_type": "code",
   "execution_count": 4,
   "id": "4e261d7d",
   "metadata": {},
   "outputs": [
    {
     "data": {
      "text/plain": [
       "{3: 8, 10: 1024, 20: 1048576, 4: 16, 5: 32, 6: 64, 7: 128, 8: 256, 9: 512}"
      ]
     },
     "execution_count": 4,
     "metadata": {},
     "output_type": "execute_result"
    }
   ],
   "source": [
    "# Type the code here:\n",
    "# A for loop is used to create the new dictionary elements\n",
    "for key in range(4, 10):\n",
    "    my_dict[key] = 2 ** key\n",
    "my_dict"
   ]
  },
  {
   "cell_type": "markdown",
   "id": "474177f2",
   "metadata": {},
   "source": [
    "**Let us move:**\n",
    "\n",
    "**5)** Now, supress the key with 20 cubits \n",
    "\n",
    "**6)** and print the whole dictionary but using the dictionary keys as iterables (to train the syntax).\n",
    "\n",
    "**7)** By the way, we could leave the dictionary in order, right? Sort dictionary by key, in descending order.\n",
    "\n",
    "**8)** Next, complete the tail of the dictionary: for 3, 2, 1 and 0 qubits with an analogous loop,\n",
    "\n",
    "**9)** and sort the dictionary in increasing order but this time, sort it by values (use the `ittemgetter` operator from the `operator` built-in module).\n",
    "\n",
    "<br>\n",
    "\n",
    "**Tip:** When you sort a dictionary by its values, it is no longer as simple as it was by its keys.\n",
    "If you are lost and do not know how to get started, you can google how the `operator` module works and how to use the `itemgetter` operator.\n",
    "\n",
    "Still lost? [On this page you can find different ways to order a dictionary](https://favtutor.com/blogs/python-sort-dictionary). You can use the one with the `ittemgetter` operator directly, but I recommend that you implement all of them. \n",
    "\n",
    "Exploring different alternatives to solve a problem will open your mind ;)\n",
    "\n",
    "In fact, [here you can find the documentation for this operator](https://docs.python.org/2/library/operator.html#operator.itemgetter)"
   ]
  },
  {
   "cell_type": "code",
   "execution_count": 5,
   "id": "f88b4eb1",
   "metadata": {},
   "outputs": [
    {
     "data": {
      "text/plain": [
       "{3: 8, 10: 1024, 4: 16, 5: 32, 6: 64, 7: 128, 8: 256, 9: 512}"
      ]
     },
     "execution_count": 5,
     "metadata": {},
     "output_type": "execute_result"
    }
   ],
   "source": [
    "#5\n",
    "# Pop method removes a given element from the dictionary \n",
    "my_dict.pop(20)\n",
    "my_dict"
   ]
  },
  {
   "cell_type": "code",
   "execution_count": 6,
   "id": "6adc7c0a",
   "metadata": {},
   "outputs": [
    {
     "name": "stdout",
     "output_type": "stream",
     "text": [
      "3\n",
      "10\n",
      "4\n",
      "5\n",
      "6\n",
      "7\n",
      "8\n",
      "9\n"
     ]
    }
   ],
   "source": [
    "#6\n",
    "# Dictionary keys are printed using a simple for loop iterating through the keys\n",
    "for key in my_dict:\n",
    "    print(key)"
   ]
  },
  {
   "cell_type": "code",
   "execution_count": 7,
   "id": "f5c076e4",
   "metadata": {},
   "outputs": [
    {
     "data": {
      "text/plain": [
       "{10: 1024, 9: 512, 8: 256, 7: 128, 6: 64, 5: 32, 4: 16, 3: 8}"
      ]
     },
     "execution_count": 7,
     "metadata": {},
     "output_type": "execute_result"
    }
   ],
   "source": [
    "#7\n",
    "# The sorted() function returns a list of tuples, so the dict() function is needed to obtain a dictionary again.\n",
    "# reverse=True sorts elements in descending order\n",
    "my_dict = dict(sorted(my_dict.items(), reverse=True))\n",
    "my_dict"
   ]
  },
  {
   "cell_type": "code",
   "execution_count": 7,
   "id": "f774dfae",
   "metadata": {},
   "outputs": [
    {
     "data": {
      "text/plain": [
       "{10: 1024, 9: 512, 8: 256, 7: 128, 6: 64, 5: 32, 4: 16, 3: 8, 2: 4, 1: 2, 0: 1}"
      ]
     },
     "execution_count": 7,
     "metadata": {},
     "output_type": "execute_result"
    }
   ],
   "source": [
    "#8\n",
    "# The tail of the dictionary is obtained by iterating through a range of the given keys and then creating the elements in the dictionary.\n",
    "# reversed() function, when aplied to range() returns an inverted range. This way, elements are added to the dictionary in the requested order.\n",
    "for key in reversed(range(3)):\n",
    "    my_dict[key] = 2 ** key\n",
    "my_dict"
   ]
  },
  {
   "cell_type": "code",
   "execution_count": 12,
   "id": "2c1efb5c",
   "metadata": {},
   "outputs": [
    {
     "data": {
      "text/plain": [
       "{0: 1, 1: 2, 2: 4, 3: 8, 4: 16, 5: 32, 6: 64, 7: 128, 8: 256, 9: 512, 10: 1024}"
      ]
     },
     "execution_count": 12,
     "metadata": {},
     "output_type": "execute_result"
    }
   ],
   "source": [
    "#9\n",
    "# To sort a dictionary by its values, itemgetter needs to be imported.\n",
    "# When a dictionary is sorted using the sorted() function, a list of tupples is generated.\n",
    "# itemgetter takes the index of the element of the tupple we want to sort by. \n",
    "# In this particular case itemgetter(1) is used to sort by values.\n",
    "from operator import itemgetter\n",
    "\n",
    "my_dict = dict(sorted(my_dict.items(), key=itemgetter(1)))\n",
    "my_dict"
   ]
  }
 ],
 "metadata": {
  "kernelspec": {
   "display_name": "Python 3 (ipykernel)",
   "language": "python",
   "name": "python3"
  },
  "language_info": {
   "codemirror_mode": {
    "name": "ipython",
    "version": 3
   },
   "file_extension": ".py",
   "mimetype": "text/x-python",
   "name": "python",
   "nbconvert_exporter": "python",
   "pygments_lexer": "ipython3",
   "version": "3.9.13"
  },
  "toc": {
   "base_numbering": 1,
   "nav_menu": {},
   "number_sections": true,
   "sideBar": true,
   "skip_h1_title": true,
   "title_cell": "Table of Contents",
   "title_sidebar": "Contents",
   "toc_cell": false,
   "toc_position": {
    "height": "calc(100% - 180px)",
    "left": "10px",
    "top": "150px",
    "width": "375.851px"
   },
   "toc_section_display": true,
   "toc_window_display": false
  }
 },
 "nbformat": 4,
 "nbformat_minor": 5
}
